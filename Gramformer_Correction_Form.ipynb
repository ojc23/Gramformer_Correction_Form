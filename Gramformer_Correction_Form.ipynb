{
 "cells": [
  {
   "cell_type": "markdown",
   "metadata": {},
   "source": [
    "# 1. Install Dependencies"
   ]
  },
  {
   "cell_type": "code",
   "execution_count": null,
   "metadata": {
    "ExecuteTime": {
     "end_time": "2021-12-07T08:06:17.922459Z",
     "start_time": "2021-12-07T08:05:05.085636Z"
    }
   },
   "outputs": [],
   "source": [
    "!pip install -U git+https://github.com/PrithivirajDamodaran/Gramformer.git   "
   ]
  },
  {
   "cell_type": "markdown",
   "metadata": {},
   "source": [
    "# 2. Import Dependencies"
   ]
  },
  {
   "cell_type": "code",
   "execution_count": null,
   "metadata": {
    "ExecuteTime": {
     "end_time": "2021-12-07T08:07:30.513593Z",
     "start_time": "2021-12-07T08:07:30.479774Z"
    }
   },
   "outputs": [],
   "source": [
    "from gramformer import Gramformer"
   ]
  },
  {
   "cell_type": "markdown",
   "metadata": {},
   "source": [
    "# 3. Instantiate Gramformer"
   ]
  },
  {
   "cell_type": "code",
   "execution_count": null,
   "metadata": {
    "ExecuteTime": {
     "end_time": "2021-12-07T08:11:24.786156Z",
     "start_time": "2021-12-07T08:10:16.051678Z"
    }
   },
   "outputs": [],
   "source": [
    "gf = Gramformer(models = 1, use_gpu=False) # 1=corrector, 2=detector"
   ]
  },
  {
   "cell_type": "markdown",
   "metadata": {},
   "source": [
    "# 4. Run Correction"
   ]
  },
  {
   "cell_type": "code",
   "execution_count": null,
   "metadata": {
    "ExecuteTime": {
     "end_time": "2021-12-07T08:48:14.978799Z",
     "start_time": "2021-12-07T08:48:01.933010Z"
    }
   },
   "outputs": [],
   "source": [
    "gf.correct('Let\\'s says we has perform the task', max_candidates=15)"
   ]
  },
  {
   "cell_type": "code",
   "execution_count": null,
   "metadata": {
    "ExecuteTime": {
     "end_time": "2021-12-07T08:49:34.051847Z",
     "start_time": "2021-12-07T08:49:32.788550Z"
    }
   },
   "outputs": [],
   "source": [
    "gf.correct('Let\\'s says we has perform the task')[0][0]"
   ]
  },
  {
   "cell_type": "markdown",
   "metadata": {},
   "source": [
    "# 5. Run Multiple Corrections"
   ]
  },
  {
   "cell_type": "code",
   "execution_count": null,
   "metadata": {
    "ExecuteTime": {
     "end_time": "2021-12-07T08:51:10.265247Z",
     "start_time": "2021-12-07T08:51:10.256029Z"
    }
   },
   "outputs": [],
   "source": [
    "sentences = [ \n",
    "    'I whish my Computer was run rapidely.',\n",
    "    'I walk to the store and I bought milk.',\n",
    "    'I will eat fish for dinner and drank milk.',\n",
    "    'We all eat the fish and then made dessert.',\n",
    "    'Anna and Pat are married; he has been together for 20 years. '\n",
    "]"
   ]
  },
  {
   "cell_type": "code",
   "execution_count": null,
   "metadata": {
    "ExecuteTime": {
     "end_time": "2021-12-07T08:51:35.212209Z",
     "start_time": "2021-12-07T08:51:28.584990Z"
    }
   },
   "outputs": [],
   "source": [
    "for sentence in sentences:\n",
    "    res = gf.correct(sentence)\n",
    "    print(res[0][0])"
   ]
  },
  {
   "cell_type": "markdown",
   "metadata": {},
   "source": [
    "# 6. Configure the Interface using Gradio"
   ]
  },
  {
   "cell_type": "code",
   "execution_count": null,
   "metadata": {
    "ExecuteTime": {
     "end_time": "2021-12-07T08:28:49.986397Z",
     "start_time": "2021-12-07T08:27:00.455726Z"
    }
   },
   "outputs": [],
   "source": [
    "!pip install gradio"
   ]
  },
  {
   "cell_type": "code",
   "execution_count": null,
   "metadata": {
    "ExecuteTime": {
     "end_time": "2021-12-07T08:32:57.744757Z",
     "start_time": "2021-12-07T08:32:39.705123Z"
    }
   },
   "outputs": [],
   "source": [
    "import gradio as gr"
   ]
  },
  {
   "cell_type": "code",
   "execution_count": null,
   "metadata": {
    "ExecuteTime": {
     "end_time": "2021-12-07T08:34:49.881461Z",
     "start_time": "2021-12-07T08:34:49.872827Z"
    }
   },
   "outputs": [],
   "source": [
    "def correct(sentence):\n",
    "    res = gf.correct(sentence) # Gramformer correct\n",
    "    return res[0][0] # Return second value in res array"
   ]
  },
  {
   "cell_type": "code",
   "execution_count": null,
   "metadata": {
    "ExecuteTime": {
     "end_time": "2021-12-07T08:51:47.572516Z",
     "start_time": "2021-12-07T08:51:47.566847Z"
    }
   },
   "outputs": [],
   "source": [
    "app_inputs = gr.inputs.Textbox(lines=2, placeholder=\"Enter sentence here...\")"
   ]
  },
  {
   "cell_type": "code",
   "execution_count": null,
   "metadata": {
    "ExecuteTime": {
     "end_time": "2021-12-07T08:51:49.385070Z",
     "start_time": "2021-12-07T08:51:48.494124Z"
    }
   },
   "outputs": [],
   "source": [
    "interface = gr.Interface(fn=correct, \n",
    "                        inputs=app_inputs, \n",
    "                        outputs='text', \n",
    "                        title='Entry Form Using Gramformer')"
   ]
  },
  {
   "cell_type": "code",
   "execution_count": null,
   "metadata": {
    "ExecuteTime": {
     "end_time": "2021-12-07T08:51:51.475442Z",
     "start_time": "2021-12-07T08:51:49.391743Z"
    },
    "scrolled": false
   },
   "outputs": [],
   "source": [
    "interface.launch();"
   ]
  },
  {
   "cell_type": "code",
   "execution_count": null,
   "metadata": {},
   "outputs": [],
   "source": []
  }
 ],
 "metadata": {
  "hide_input": false,
  "kernelspec": {
   "display_name": "Python [conda env:py3711-gram]",
   "language": "python",
   "name": "conda-env-py3711-gram-py"
  },
  "language_info": {
   "codemirror_mode": {
    "name": "ipython",
    "version": 3
   },
   "file_extension": ".py",
   "mimetype": "text/x-python",
   "name": "python",
   "nbconvert_exporter": "python",
   "pygments_lexer": "ipython3",
   "version": "3.7.11"
  }
 },
 "nbformat": 4,
 "nbformat_minor": 2
}
