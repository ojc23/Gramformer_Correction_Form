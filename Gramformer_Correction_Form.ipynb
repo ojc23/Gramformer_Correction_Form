{
 "cells": [
  {
   "cell_type": "markdown",
   "metadata": {},
   "source": [
    "# 1. Install Dependencies"
   ]
  },
  {
   "cell_type": "code",
   "execution_count": null,
   "metadata": {
    "ExecuteTime": {
     "end_time": "2021-12-07T08:06:17.922459Z",
     "start_time": "2021-12-07T08:05:05.085636Z"
    }
   },
   "outputs": [],
   "source": [
    "!pip install -U git+https://github.com/PrithivirajDamodaran/Gramformer.git   "
   ]
  },
  {
   "cell_type": "markdown",
   "metadata": {},
   "source": [
    "# 2. Import Dependencies"
   ]
  },
  {
   "cell_type": "code",
   "execution_count": 49,
   "metadata": {
    "ExecuteTime": {
     "end_time": "2021-12-07T10:29:29.491271Z",
     "start_time": "2021-12-07T10:29:29.486873Z"
    }
   },
   "outputs": [],
   "source": [
    "from gramformer import Gramformer"
   ]
  },
  {
   "cell_type": "markdown",
   "metadata": {},
   "source": [
    "# 3. Instantiate Gramformer"
   ]
  },
  {
   "cell_type": "code",
   "execution_count": 50,
   "metadata": {
    "ExecuteTime": {
     "end_time": "2021-12-07T10:30:33.559901Z",
     "start_time": "2021-12-07T10:29:31.429609Z"
    }
   },
   "outputs": [
    {
     "name": "stdout",
     "output_type": "stream",
     "text": [
      "[Gramformer] Grammar error correct/highlight model loaded..\n"
     ]
    }
   ],
   "source": [
    "gf = Gramformer(models = 1, use_gpu=False) # 1=corrector, 2=detector"
   ]
  },
  {
   "cell_type": "markdown",
   "metadata": {},
   "source": [
    "# 4. Run Correction"
   ]
  },
  {
   "cell_type": "code",
   "execution_count": 51,
   "metadata": {
    "ExecuteTime": {
     "end_time": "2021-12-07T10:30:39.217463Z",
     "start_time": "2021-12-07T10:30:33.567960Z"
    }
   },
   "outputs": [
    {
     "data": {
      "text/plain": [
       "[(\"Let's say we have completed the task.\", -38.54365539550781),\n",
       " (\"Let's say we performed the task.\", -40.77891540527344),\n",
       " (\"Let's say we have done the task.\", -41.50518035888672),\n",
       " (\"Let's say we've performed the task.\", -43.22132110595703),\n",
       " (\"Let's say we have performed the task.\", -43.59819793701172),\n",
       " ('Let’s say we performed the task.', -70.56978607177734)]"
      ]
     },
     "execution_count": 51,
     "metadata": {},
     "output_type": "execute_result"
    }
   ],
   "source": [
    "gf.correct('Let\\'s says we has perform the task', max_candidates=15)"
   ]
  },
  {
   "cell_type": "code",
   "execution_count": 52,
   "metadata": {
    "ExecuteTime": {
     "end_time": "2021-12-07T10:30:40.498655Z",
     "start_time": "2021-12-07T10:30:39.222364Z"
    }
   },
   "outputs": [
    {
     "data": {
      "text/plain": [
       "\"Let's say we have performed the task.\""
      ]
     },
     "execution_count": 52,
     "metadata": {},
     "output_type": "execute_result"
    }
   ],
   "source": [
    "gf.correct('Let\\'s says we has perform the task')[0][0]"
   ]
  },
  {
   "cell_type": "markdown",
   "metadata": {},
   "source": [
    "# 5. Run Multiple Corrections"
   ]
  },
  {
   "cell_type": "code",
   "execution_count": 53,
   "metadata": {
    "ExecuteTime": {
     "end_time": "2021-12-07T10:30:40.513762Z",
     "start_time": "2021-12-07T10:30:40.508036Z"
    }
   },
   "outputs": [],
   "source": [
    "sentences = [ \n",
    "    'I whish my Computer was run rapidely.',\n",
    "    'I walk to the store and I bought milk.',\n",
    "    'I will eat fish for dinner and drank milk.',\n",
    "    'We all eat the fish and then made dessert.',\n",
    "    'Anna and Pat are married; he has been together for 20 years. '\n",
    "]"
   ]
  },
  {
   "cell_type": "code",
   "execution_count": 54,
   "metadata": {
    "ExecuteTime": {
     "end_time": "2021-12-07T10:30:47.029925Z",
     "start_time": "2021-12-07T10:30:40.526734Z"
    }
   },
   "outputs": [
    {
     "name": "stdout",
     "output_type": "stream",
     "text": [
      "I wish my computer could run quickly.\n",
      "I walked to the store and I bought milk.\n",
      "I eat fish for dinner and drink milk.\n",
      "We all ate the fish and then made dessert.\n",
      "Anna and Pat are married and have been together for 20 years.\n"
     ]
    }
   ],
   "source": [
    "for sentence in sentences:\n",
    "    res = gf.correct(sentence)\n",
    "    print(res[0][0])"
   ]
  },
  {
   "cell_type": "markdown",
   "metadata": {},
   "source": [
    "# 6. Configure the Interface using Gradio"
   ]
  },
  {
   "cell_type": "code",
   "execution_count": null,
   "metadata": {
    "ExecuteTime": {
     "end_time": "2021-12-07T08:28:49.986397Z",
     "start_time": "2021-12-07T08:27:00.455726Z"
    }
   },
   "outputs": [],
   "source": [
    "!pip install gradio"
   ]
  },
  {
   "cell_type": "code",
   "execution_count": 55,
   "metadata": {
    "ExecuteTime": {
     "end_time": "2021-12-07T10:30:47.042861Z",
     "start_time": "2021-12-07T10:30:47.035675Z"
    }
   },
   "outputs": [],
   "source": [
    "import gradio as gr"
   ]
  },
  {
   "cell_type": "code",
   "execution_count": 56,
   "metadata": {
    "ExecuteTime": {
     "end_time": "2021-12-07T10:30:47.093566Z",
     "start_time": "2021-12-07T10:30:47.049212Z"
    }
   },
   "outputs": [],
   "source": [
    "def correct(sentence):\n",
    "    res = gf.correct(sentence) # Gramformer correct\n",
    "    return res[0][0] # Return second value in res array"
   ]
  },
  {
   "cell_type": "code",
   "execution_count": 57,
   "metadata": {
    "ExecuteTime": {
     "end_time": "2021-12-07T10:30:47.120501Z",
     "start_time": "2021-12-07T10:30:47.104005Z"
    }
   },
   "outputs": [],
   "source": [
    "app_inputs = gr.inputs.Textbox(lines=2, placeholder=\"Enter sentence here...\")"
   ]
  },
  {
   "cell_type": "code",
   "execution_count": 58,
   "metadata": {
    "ExecuteTime": {
     "end_time": "2021-12-07T10:30:47.917989Z",
     "start_time": "2021-12-07T10:30:47.131031Z"
    }
   },
   "outputs": [],
   "source": [
    "interface = gr.Interface(fn=correct, \n",
    "                        inputs=app_inputs, \n",
    "                        outputs='text', \n",
    "                        title='Entry Form Using Gramformer')"
   ]
  },
  {
   "cell_type": "code",
   "execution_count": 59,
   "metadata": {
    "ExecuteTime": {
     "end_time": "2021-12-07T10:30:50.192004Z",
     "start_time": "2021-12-07T10:30:47.926616Z"
    },
    "scrolled": false
   },
   "outputs": [
    {
     "name": "stdout",
     "output_type": "stream",
     "text": [
      "Running on local URL:  http://127.0.0.1:7866/\n",
      "\n",
      "To create a public link, set `share=True` in `launch()`.\n"
     ]
    },
    {
     "data": {
      "text/html": [
       "\n",
       "        <iframe\n",
       "            width=\"900\"\n",
       "            height=\"500\"\n",
       "            src=\"http://127.0.0.1:7866/\"\n",
       "            frameborder=\"0\"\n",
       "            allowfullscreen\n",
       "            \n",
       "        ></iframe>\n",
       "        "
      ],
      "text/plain": [
       "<IPython.lib.display.IFrame at 0x7fb38cafd210>"
      ]
     },
     "metadata": {},
     "output_type": "display_data"
    }
   ],
   "source": [
    "interface.launch();"
   ]
  }
 ],
 "metadata": {
  "hide_input": false,
  "kernelspec": {
   "display_name": "Python [conda env:py3711-gram]",
   "language": "python",
   "name": "conda-env-py3711-gram-py"
  },
  "language_info": {
   "codemirror_mode": {
    "name": "ipython",
    "version": 3
   },
   "file_extension": ".py",
   "mimetype": "text/x-python",
   "name": "python",
   "nbconvert_exporter": "python",
   "pygments_lexer": "ipython3",
   "version": "3.7.11"
  }
 },
 "nbformat": 4,
 "nbformat_minor": 2
}
