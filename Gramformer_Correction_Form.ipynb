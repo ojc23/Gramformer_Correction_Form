{
 "cells": [
  {
   "cell_type": "markdown",
   "metadata": {},
   "source": [
    "# 1. Install Dependencies"
   ]
  },
  {
   "cell_type": "code",
   "execution_count": 2,
   "metadata": {
    "ExecuteTime": {
     "end_time": "2021-12-07T08:06:17.922459Z",
     "start_time": "2021-12-07T08:05:05.085636Z"
    },
    "collapsed": true
   },
   "outputs": [
    {
     "name": "stdout",
     "output_type": "stream",
     "text": [
      "Requirement already satisfied: pip==20.1.1 in /Users/olivierchateauneuf/opt/anaconda3/envs/py3711-gram/lib/python3.7/site-packages (20.1.1)\n",
      "\u001b[33mWARNING: You are using pip version 20.1.1; however, version 21.3.1 is available.\n",
      "You should consider upgrading via the '/Users/olivierchateauneuf/opt/anaconda3/envs/py3711-gram/bin/python -m pip install --upgrade pip' command.\u001b[0m\n",
      "Requirement already satisfied: tokenizers==0.10.2 in /Users/olivierchateauneuf/opt/anaconda3/envs/py3711-gram/lib/python3.7/site-packages (0.10.2)\n",
      "\u001b[33mWARNING: You are using pip version 20.1.1; however, version 21.3.1 is available.\n",
      "You should consider upgrading via the '/Users/olivierchateauneuf/opt/anaconda3/envs/py3711-gram/bin/python -m pip install --upgrade pip' command.\u001b[0m\n",
      "Collecting git+https://github.com/PrithivirajDamodaran/Gramformer.git\n",
      "  Cloning https://github.com/PrithivirajDamodaran/Gramformer.git to /private/var/folders/xg/q19dknr52wx112mf1xgn9kbc0000gn/T/pip-req-build-4ljjlvrx\n",
      "  Running command git clone -q https://github.com/PrithivirajDamodaran/Gramformer.git /private/var/folders/xg/q19dknr52wx112mf1xgn9kbc0000gn/T/pip-req-build-4ljjlvrx\n",
      "Requirement already satisfied, skipping upgrade: transformers in /Users/olivierchateauneuf/opt/anaconda3/envs/py3711-gram/lib/python3.7/site-packages (from gramformer==1.0) (4.13.0.dev0)\n",
      "Requirement already satisfied, skipping upgrade: sentencepiece==0.1.95 in /Users/olivierchateauneuf/opt/anaconda3/envs/py3711-gram/lib/python3.7/site-packages (from gramformer==1.0) (0.1.95)\n",
      "Requirement already satisfied, skipping upgrade: python-Levenshtein==0.12.2 in /Users/olivierchateauneuf/opt/anaconda3/envs/py3711-gram/lib/python3.7/site-packages (from gramformer==1.0) (0.12.2)\n",
      "Requirement already satisfied, skipping upgrade: fuzzywuzzy==0.18.0 in /Users/olivierchateauneuf/opt/anaconda3/envs/py3711-gram/lib/python3.7/site-packages (from gramformer==1.0) (0.18.0)\n",
      "Requirement already satisfied, skipping upgrade: tokenizers==0.10.2 in /Users/olivierchateauneuf/opt/anaconda3/envs/py3711-gram/lib/python3.7/site-packages (from gramformer==1.0) (0.10.2)\n",
      "Requirement already satisfied, skipping upgrade: fsspec==2021.5.0 in /Users/olivierchateauneuf/opt/anaconda3/envs/py3711-gram/lib/python3.7/site-packages (from gramformer==1.0) (2021.5.0)\n",
      "Requirement already satisfied, skipping upgrade: lm-scorer==0.4.2 in /Users/olivierchateauneuf/opt/anaconda3/envs/py3711-gram/lib/python3.7/site-packages (from gramformer==1.0) (0.4.2)\n",
      "Requirement already satisfied, skipping upgrade: errant in /Users/olivierchateauneuf/opt/anaconda3/envs/py3711-gram/lib/python3.7/site-packages (from gramformer==1.0) (2.3.0)\n",
      "Requirement already satisfied, skipping upgrade: huggingface-hub<1.0,>=0.1.0 in /Users/olivierchateauneuf/opt/anaconda3/envs/py3711-gram/lib/python3.7/site-packages (from transformers->gramformer==1.0) (0.2.1)\n",
      "Requirement already satisfied, skipping upgrade: importlib-metadata; python_version < \"3.8\" in /Users/olivierchateauneuf/opt/anaconda3/envs/py3711-gram/lib/python3.7/site-packages (from transformers->gramformer==1.0) (4.8.2)\n",
      "Requirement already satisfied, skipping upgrade: numpy>=1.17 in /Users/olivierchateauneuf/opt/anaconda3/envs/py3711-gram/lib/python3.7/site-packages (from transformers->gramformer==1.0) (1.21.4)\n",
      "Requirement already satisfied, skipping upgrade: tqdm>=4.27 in /Users/olivierchateauneuf/opt/anaconda3/envs/py3711-gram/lib/python3.7/site-packages (from transformers->gramformer==1.0) (4.62.3)\n",
      "Requirement already satisfied, skipping upgrade: regex!=2019.12.17 in /Users/olivierchateauneuf/opt/anaconda3/envs/py3711-gram/lib/python3.7/site-packages (from transformers->gramformer==1.0) (2021.11.10)\n",
      "Requirement already satisfied, skipping upgrade: sacremoses in /Users/olivierchateauneuf/opt/anaconda3/envs/py3711-gram/lib/python3.7/site-packages (from transformers->gramformer==1.0) (0.0.46)\n",
      "Requirement already satisfied, skipping upgrade: pyyaml>=5.1 in /Users/olivierchateauneuf/opt/anaconda3/envs/py3711-gram/lib/python3.7/site-packages (from transformers->gramformer==1.0) (6.0)\n",
      "Requirement already satisfied, skipping upgrade: requests in /Users/olivierchateauneuf/opt/anaconda3/envs/py3711-gram/lib/python3.7/site-packages (from transformers->gramformer==1.0) (2.26.0)\n",
      "Requirement already satisfied, skipping upgrade: packaging>=20.0 in /Users/olivierchateauneuf/opt/anaconda3/envs/py3711-gram/lib/python3.7/site-packages (from transformers->gramformer==1.0) (21.3)\n",
      "Requirement already satisfied, skipping upgrade: filelock in /Users/olivierchateauneuf/opt/anaconda3/envs/py3711-gram/lib/python3.7/site-packages (from transformers->gramformer==1.0) (3.4.0)\n",
      "Requirement already satisfied, skipping upgrade: setuptools in /Users/olivierchateauneuf/opt/anaconda3/envs/py3711-gram/lib/python3.7/site-packages (from python-Levenshtein==0.12.2->gramformer==1.0) (58.0.4)\n",
      "Requirement already satisfied, skipping upgrade: pip>=20.0.0 in /Users/olivierchateauneuf/opt/anaconda3/envs/py3711-gram/lib/python3.7/site-packages (from lm-scorer==0.4.2->gramformer==1.0) (20.1.1)\n",
      "Requirement already satisfied, skipping upgrade: torch<2.0.0,>=1.4.0 in /Users/olivierchateauneuf/opt/anaconda3/envs/py3711-gram/lib/python3.7/site-packages (from lm-scorer==0.4.2->gramformer==1.0) (1.10.0)\n",
      "Requirement already satisfied, skipping upgrade: spacy<3,>=2.2.0 in /Users/olivierchateauneuf/opt/anaconda3/envs/py3711-gram/lib/python3.7/site-packages (from errant->gramformer==1.0) (2.3.7)\n",
      "Requirement already satisfied, skipping upgrade: typing-extensions>=3.7.4.3 in /Users/olivierchateauneuf/opt/anaconda3/envs/py3711-gram/lib/python3.7/site-packages (from huggingface-hub<1.0,>=0.1.0->transformers->gramformer==1.0) (3.10.0.2)\n",
      "Requirement already satisfied, skipping upgrade: zipp>=0.5 in /Users/olivierchateauneuf/opt/anaconda3/envs/py3711-gram/lib/python3.7/site-packages (from importlib-metadata; python_version < \"3.8\"->transformers->gramformer==1.0) (3.6.0)\n",
      "Requirement already satisfied, skipping upgrade: joblib in /Users/olivierchateauneuf/opt/anaconda3/envs/py3711-gram/lib/python3.7/site-packages (from sacremoses->transformers->gramformer==1.0) (1.1.0)\n",
      "Requirement already satisfied, skipping upgrade: click in /Users/olivierchateauneuf/opt/anaconda3/envs/py3711-gram/lib/python3.7/site-packages (from sacremoses->transformers->gramformer==1.0) (8.0.3)\n",
      "Requirement already satisfied, skipping upgrade: six in /Users/olivierchateauneuf/opt/anaconda3/envs/py3711-gram/lib/python3.7/site-packages (from sacremoses->transformers->gramformer==1.0) (1.16.0)\n",
      "Requirement already satisfied, skipping upgrade: idna<4,>=2.5; python_version >= \"3\" in /Users/olivierchateauneuf/opt/anaconda3/envs/py3711-gram/lib/python3.7/site-packages (from requests->transformers->gramformer==1.0) (3.3)\n",
      "Requirement already satisfied, skipping upgrade: certifi>=2017.4.17 in /Users/olivierchateauneuf/opt/anaconda3/envs/py3711-gram/lib/python3.7/site-packages (from requests->transformers->gramformer==1.0) (2021.10.8)\n",
      "Requirement already satisfied, skipping upgrade: charset-normalizer~=2.0.0; python_version >= \"3\" in /Users/olivierchateauneuf/opt/anaconda3/envs/py3711-gram/lib/python3.7/site-packages (from requests->transformers->gramformer==1.0) (2.0.9)\n",
      "Requirement already satisfied, skipping upgrade: urllib3<1.27,>=1.21.1 in /Users/olivierchateauneuf/opt/anaconda3/envs/py3711-gram/lib/python3.7/site-packages (from requests->transformers->gramformer==1.0) (1.26.7)\n",
      "Requirement already satisfied, skipping upgrade: pyparsing!=3.0.5,>=2.0.2 in /Users/olivierchateauneuf/opt/anaconda3/envs/py3711-gram/lib/python3.7/site-packages (from packaging>=20.0->transformers->gramformer==1.0) (3.0.4)\n",
      "Requirement already satisfied, skipping upgrade: preshed<3.1.0,>=3.0.2 in /Users/olivierchateauneuf/opt/anaconda3/envs/py3711-gram/lib/python3.7/site-packages (from spacy<3,>=2.2.0->errant->gramformer==1.0) (3.0.6)\n",
      "Requirement already satisfied, skipping upgrade: thinc<7.5.0,>=7.4.1 in /Users/olivierchateauneuf/opt/anaconda3/envs/py3711-gram/lib/python3.7/site-packages (from spacy<3,>=2.2.0->errant->gramformer==1.0) (7.4.5)\n",
      "Requirement already satisfied, skipping upgrade: srsly<1.1.0,>=1.0.2 in /Users/olivierchateauneuf/opt/anaconda3/envs/py3711-gram/lib/python3.7/site-packages (from spacy<3,>=2.2.0->errant->gramformer==1.0) (1.0.5)\n",
      "Requirement already satisfied, skipping upgrade: blis<0.8.0,>=0.4.0 in /Users/olivierchateauneuf/opt/anaconda3/envs/py3711-gram/lib/python3.7/site-packages (from spacy<3,>=2.2.0->errant->gramformer==1.0) (0.7.5)\n"
     ]
    },
    {
     "name": "stdout",
     "output_type": "stream",
     "text": [
      "Requirement already satisfied, skipping upgrade: wasabi<1.1.0,>=0.4.0 in /Users/olivierchateauneuf/opt/anaconda3/envs/py3711-gram/lib/python3.7/site-packages (from spacy<3,>=2.2.0->errant->gramformer==1.0) (0.9.0)\n",
      "Requirement already satisfied, skipping upgrade: catalogue<1.1.0,>=0.0.7 in /Users/olivierchateauneuf/opt/anaconda3/envs/py3711-gram/lib/python3.7/site-packages (from spacy<3,>=2.2.0->errant->gramformer==1.0) (1.0.0)\n",
      "Requirement already satisfied, skipping upgrade: plac<1.2.0,>=0.9.6 in /Users/olivierchateauneuf/opt/anaconda3/envs/py3711-gram/lib/python3.7/site-packages (from spacy<3,>=2.2.0->errant->gramformer==1.0) (1.1.3)\n",
      "Requirement already satisfied, skipping upgrade: cymem<2.1.0,>=2.0.2 in /Users/olivierchateauneuf/opt/anaconda3/envs/py3711-gram/lib/python3.7/site-packages (from spacy<3,>=2.2.0->errant->gramformer==1.0) (2.0.6)\n",
      "Requirement already satisfied, skipping upgrade: murmurhash<1.1.0,>=0.28.0 in /Users/olivierchateauneuf/opt/anaconda3/envs/py3711-gram/lib/python3.7/site-packages (from spacy<3,>=2.2.0->errant->gramformer==1.0) (1.0.6)\n",
      "Building wheels for collected packages: gramformer\n",
      "  Building wheel for gramformer (setup.py) ... \u001b[?25ldone\n",
      "\u001b[?25h  Created wheel for gramformer: filename=gramformer-1.0-py3-none-any.whl size=4501 sha256=9830236936a860edb228ccfea8804a43abca59c77782baf52ca0d3991c9e2edb\n",
      "  Stored in directory: /private/var/folders/xg/q19dknr52wx112mf1xgn9kbc0000gn/T/pip-ephem-wheel-cache-ynb0grf8/wheels/c1/f6/04/a7ceda8a8c1d494a3523957d61eb6dfe428568b1af0b9d508c\n",
      "Successfully built gramformer\n",
      "Installing collected packages: gramformer\n",
      "  Attempting uninstall: gramformer\n",
      "    Found existing installation: gramformer 1.0\n",
      "    Uninstalling gramformer-1.0:\n",
      "      Successfully uninstalled gramformer-1.0\n",
      "Successfully installed gramformer-1.0\n",
      "\u001b[33mWARNING: You are using pip version 20.1.1; however, version 21.3.1 is available.\n",
      "You should consider upgrading via the '/Users/olivierchateauneuf/opt/anaconda3/envs/py3711-gram/bin/python -m pip install --upgrade pip' command.\u001b[0m\n",
      "Collecting git+https://github.com/huggingface/transformers\n",
      "  Cloning https://github.com/huggingface/transformers to /private/var/folders/xg/q19dknr52wx112mf1xgn9kbc0000gn/T/pip-req-build-4ox6h0h7\n",
      "  Running command git clone -q https://github.com/huggingface/transformers /private/var/folders/xg/q19dknr52wx112mf1xgn9kbc0000gn/T/pip-req-build-4ox6h0h7\n",
      "  Installing build dependencies ... \u001b[?25ldone\n",
      "\u001b[?25h  Getting requirements to build wheel ... \u001b[?25ldone\n",
      "\u001b[?25h    Preparing wheel metadata ... \u001b[?25ldone\n",
      "\u001b[?25hRequirement already satisfied (use --upgrade to upgrade): transformers==4.13.0.dev0 from git+https://github.com/huggingface/transformers in /Users/olivierchateauneuf/opt/anaconda3/envs/py3711-gram/lib/python3.7/site-packages\n",
      "Requirement already satisfied: tokenizers<0.11,>=0.10.1 in /Users/olivierchateauneuf/opt/anaconda3/envs/py3711-gram/lib/python3.7/site-packages (from transformers==4.13.0.dev0) (0.10.2)\n",
      "Requirement already satisfied: pyyaml>=5.1 in /Users/olivierchateauneuf/opt/anaconda3/envs/py3711-gram/lib/python3.7/site-packages (from transformers==4.13.0.dev0) (6.0)\n",
      "Requirement already satisfied: huggingface-hub<1.0,>=0.1.0 in /Users/olivierchateauneuf/opt/anaconda3/envs/py3711-gram/lib/python3.7/site-packages (from transformers==4.13.0.dev0) (0.2.1)\n",
      "Requirement already satisfied: requests in /Users/olivierchateauneuf/opt/anaconda3/envs/py3711-gram/lib/python3.7/site-packages (from transformers==4.13.0.dev0) (2.26.0)\n",
      "Requirement already satisfied: tqdm>=4.27 in /Users/olivierchateauneuf/opt/anaconda3/envs/py3711-gram/lib/python3.7/site-packages (from transformers==4.13.0.dev0) (4.62.3)\n",
      "Requirement already satisfied: importlib-metadata; python_version < \"3.8\" in /Users/olivierchateauneuf/opt/anaconda3/envs/py3711-gram/lib/python3.7/site-packages (from transformers==4.13.0.dev0) (4.8.2)\n",
      "Requirement already satisfied: filelock in /Users/olivierchateauneuf/opt/anaconda3/envs/py3711-gram/lib/python3.7/site-packages (from transformers==4.13.0.dev0) (3.4.0)\n",
      "Requirement already satisfied: sacremoses in /Users/olivierchateauneuf/opt/anaconda3/envs/py3711-gram/lib/python3.7/site-packages (from transformers==4.13.0.dev0) (0.0.46)\n",
      "Requirement already satisfied: numpy>=1.17 in /Users/olivierchateauneuf/opt/anaconda3/envs/py3711-gram/lib/python3.7/site-packages (from transformers==4.13.0.dev0) (1.21.4)\n",
      "Requirement already satisfied: packaging>=20.0 in /Users/olivierchateauneuf/opt/anaconda3/envs/py3711-gram/lib/python3.7/site-packages (from transformers==4.13.0.dev0) (21.3)\n",
      "Requirement already satisfied: regex!=2019.12.17 in /Users/olivierchateauneuf/opt/anaconda3/envs/py3711-gram/lib/python3.7/site-packages (from transformers==4.13.0.dev0) (2021.11.10)\n",
      "Requirement already satisfied: typing-extensions>=3.7.4.3 in /Users/olivierchateauneuf/opt/anaconda3/envs/py3711-gram/lib/python3.7/site-packages (from huggingface-hub<1.0,>=0.1.0->transformers==4.13.0.dev0) (3.10.0.2)\n",
      "Requirement already satisfied: urllib3<1.27,>=1.21.1 in /Users/olivierchateauneuf/opt/anaconda3/envs/py3711-gram/lib/python3.7/site-packages (from requests->transformers==4.13.0.dev0) (1.26.7)\n",
      "Requirement already satisfied: certifi>=2017.4.17 in /Users/olivierchateauneuf/opt/anaconda3/envs/py3711-gram/lib/python3.7/site-packages (from requests->transformers==4.13.0.dev0) (2021.10.8)\n",
      "Requirement already satisfied: idna<4,>=2.5; python_version >= \"3\" in /Users/olivierchateauneuf/opt/anaconda3/envs/py3711-gram/lib/python3.7/site-packages (from requests->transformers==4.13.0.dev0) (3.3)\n",
      "Requirement already satisfied: charset-normalizer~=2.0.0; python_version >= \"3\" in /Users/olivierchateauneuf/opt/anaconda3/envs/py3711-gram/lib/python3.7/site-packages (from requests->transformers==4.13.0.dev0) (2.0.9)\n",
      "Requirement already satisfied: zipp>=0.5 in /Users/olivierchateauneuf/opt/anaconda3/envs/py3711-gram/lib/python3.7/site-packages (from importlib-metadata; python_version < \"3.8\"->transformers==4.13.0.dev0) (3.6.0)\n",
      "Requirement already satisfied: six in /Users/olivierchateauneuf/opt/anaconda3/envs/py3711-gram/lib/python3.7/site-packages (from sacremoses->transformers==4.13.0.dev0) (1.16.0)\n",
      "Requirement already satisfied: click in /Users/olivierchateauneuf/opt/anaconda3/envs/py3711-gram/lib/python3.7/site-packages (from sacremoses->transformers==4.13.0.dev0) (8.0.3)\n",
      "Requirement already satisfied: joblib in /Users/olivierchateauneuf/opt/anaconda3/envs/py3711-gram/lib/python3.7/site-packages (from sacremoses->transformers==4.13.0.dev0) (1.1.0)\n",
      "Requirement already satisfied: pyparsing!=3.0.5,>=2.0.2 in /Users/olivierchateauneuf/opt/anaconda3/envs/py3711-gram/lib/python3.7/site-packages (from packaging>=20.0->transformers==4.13.0.dev0) (3.0.4)\n",
      "Building wheels for collected packages: transformers\n",
      "  Building wheel for transformers (PEP 517) ... \u001b[?25ldone\n",
      "\u001b[?25h  Created wheel for transformers: filename=transformers-4.13.0.dev0-py3-none-any.whl size=3276845 sha256=cec2bee24f609504476766ec683ab922ef5ffdbc4a9e2fbea4ca683cfc502b4a\n",
      "  Stored in directory: /private/var/folders/xg/q19dknr52wx112mf1xgn9kbc0000gn/T/pip-ephem-wheel-cache-lsz9iyxx/wheels/35/2e/a7/d819e3310040329f0f47e57c9e3e7a7338aa5e74c49acfe522\n",
      "Successfully built transformers\n",
      "\u001b[33mWARNING: You are using pip version 20.1.1; however, version 21.3.1 is available.\n",
      "You should consider upgrading via the '/Users/olivierchateauneuf/opt/anaconda3/envs/py3711-gram/bin/python -m pip install --upgrade pip' command.\u001b[0m\n",
      "Requirement already satisfied: en_core_web_sm==2.3.1 from https://github.com/explosion/spacy-models/releases/download/en_core_web_sm-2.3.1/en_core_web_sm-2.3.1.tar.gz#egg=en_core_web_sm==2.3.1 in /Users/olivierchateauneuf/opt/anaconda3/envs/py3711-gram/lib/python3.7/site-packages (2.3.1)\n",
      "Requirement already satisfied: spacy<2.4.0,>=2.3.0 in /Users/olivierchateauneuf/opt/anaconda3/envs/py3711-gram/lib/python3.7/site-packages (from en_core_web_sm==2.3.1) (2.3.7)\n",
      "Requirement already satisfied: catalogue<1.1.0,>=0.0.7 in /Users/olivierchateauneuf/opt/anaconda3/envs/py3711-gram/lib/python3.7/site-packages (from spacy<2.4.0,>=2.3.0->en_core_web_sm==2.3.1) (1.0.0)\n",
      "Requirement already satisfied: thinc<7.5.0,>=7.4.1 in /Users/olivierchateauneuf/opt/anaconda3/envs/py3711-gram/lib/python3.7/site-packages (from spacy<2.4.0,>=2.3.0->en_core_web_sm==2.3.1) (7.4.5)\n"
     ]
    },
    {
     "name": "stdout",
     "output_type": "stream",
     "text": [
      "Requirement already satisfied: blis<0.8.0,>=0.4.0 in /Users/olivierchateauneuf/opt/anaconda3/envs/py3711-gram/lib/python3.7/site-packages (from spacy<2.4.0,>=2.3.0->en_core_web_sm==2.3.1) (0.7.5)\n",
      "Requirement already satisfied: srsly<1.1.0,>=1.0.2 in /Users/olivierchateauneuf/opt/anaconda3/envs/py3711-gram/lib/python3.7/site-packages (from spacy<2.4.0,>=2.3.0->en_core_web_sm==2.3.1) (1.0.5)\n",
      "Requirement already satisfied: setuptools in /Users/olivierchateauneuf/opt/anaconda3/envs/py3711-gram/lib/python3.7/site-packages (from spacy<2.4.0,>=2.3.0->en_core_web_sm==2.3.1) (58.0.4)\n",
      "Requirement already satisfied: cymem<2.1.0,>=2.0.2 in /Users/olivierchateauneuf/opt/anaconda3/envs/py3711-gram/lib/python3.7/site-packages (from spacy<2.4.0,>=2.3.0->en_core_web_sm==2.3.1) (2.0.6)\n",
      "Requirement already satisfied: plac<1.2.0,>=0.9.6 in /Users/olivierchateauneuf/opt/anaconda3/envs/py3711-gram/lib/python3.7/site-packages (from spacy<2.4.0,>=2.3.0->en_core_web_sm==2.3.1) (1.1.3)\n",
      "Requirement already satisfied: preshed<3.1.0,>=3.0.2 in /Users/olivierchateauneuf/opt/anaconda3/envs/py3711-gram/lib/python3.7/site-packages (from spacy<2.4.0,>=2.3.0->en_core_web_sm==2.3.1) (3.0.6)\n",
      "Requirement already satisfied: wasabi<1.1.0,>=0.4.0 in /Users/olivierchateauneuf/opt/anaconda3/envs/py3711-gram/lib/python3.7/site-packages (from spacy<2.4.0,>=2.3.0->en_core_web_sm==2.3.1) (0.9.0)\n",
      "Requirement already satisfied: tqdm<5.0.0,>=4.38.0 in /Users/olivierchateauneuf/opt/anaconda3/envs/py3711-gram/lib/python3.7/site-packages (from spacy<2.4.0,>=2.3.0->en_core_web_sm==2.3.1) (4.62.3)\n",
      "Requirement already satisfied: requests<3.0.0,>=2.13.0 in /Users/olivierchateauneuf/opt/anaconda3/envs/py3711-gram/lib/python3.7/site-packages (from spacy<2.4.0,>=2.3.0->en_core_web_sm==2.3.1) (2.26.0)\n",
      "Requirement already satisfied: murmurhash<1.1.0,>=0.28.0 in /Users/olivierchateauneuf/opt/anaconda3/envs/py3711-gram/lib/python3.7/site-packages (from spacy<2.4.0,>=2.3.0->en_core_web_sm==2.3.1) (1.0.6)\n",
      "Requirement already satisfied: numpy>=1.15.0 in /Users/olivierchateauneuf/opt/anaconda3/envs/py3711-gram/lib/python3.7/site-packages (from spacy<2.4.0,>=2.3.0->en_core_web_sm==2.3.1) (1.21.4)\n",
      "Requirement already satisfied: importlib-metadata>=0.20; python_version < \"3.8\" in /Users/olivierchateauneuf/opt/anaconda3/envs/py3711-gram/lib/python3.7/site-packages (from catalogue<1.1.0,>=0.0.7->spacy<2.4.0,>=2.3.0->en_core_web_sm==2.3.1) (4.8.2)\n",
      "Requirement already satisfied: charset-normalizer~=2.0.0; python_version >= \"3\" in /Users/olivierchateauneuf/opt/anaconda3/envs/py3711-gram/lib/python3.7/site-packages (from requests<3.0.0,>=2.13.0->spacy<2.4.0,>=2.3.0->en_core_web_sm==2.3.1) (2.0.9)\n",
      "Requirement already satisfied: certifi>=2017.4.17 in /Users/olivierchateauneuf/opt/anaconda3/envs/py3711-gram/lib/python3.7/site-packages (from requests<3.0.0,>=2.13.0->spacy<2.4.0,>=2.3.0->en_core_web_sm==2.3.1) (2021.10.8)\n",
      "Requirement already satisfied: idna<4,>=2.5; python_version >= \"3\" in /Users/olivierchateauneuf/opt/anaconda3/envs/py3711-gram/lib/python3.7/site-packages (from requests<3.0.0,>=2.13.0->spacy<2.4.0,>=2.3.0->en_core_web_sm==2.3.1) (3.3)\n",
      "Requirement already satisfied: urllib3<1.27,>=1.21.1 in /Users/olivierchateauneuf/opt/anaconda3/envs/py3711-gram/lib/python3.7/site-packages (from requests<3.0.0,>=2.13.0->spacy<2.4.0,>=2.3.0->en_core_web_sm==2.3.1) (1.26.7)\n",
      "Requirement already satisfied: typing-extensions>=3.6.4; python_version < \"3.8\" in /Users/olivierchateauneuf/opt/anaconda3/envs/py3711-gram/lib/python3.7/site-packages (from importlib-metadata>=0.20; python_version < \"3.8\"->catalogue<1.1.0,>=0.0.7->spacy<2.4.0,>=2.3.0->en_core_web_sm==2.3.1) (3.10.0.2)\n",
      "Requirement already satisfied: zipp>=0.5 in /Users/olivierchateauneuf/opt/anaconda3/envs/py3711-gram/lib/python3.7/site-packages (from importlib-metadata>=0.20; python_version < \"3.8\"->catalogue<1.1.0,>=0.0.7->spacy<2.4.0,>=2.3.0->en_core_web_sm==2.3.1) (3.6.0)\n",
      "\u001b[33mWARNING: You are using pip version 20.1.1; however, version 21.3.1 is available.\n",
      "You should consider upgrading via the '/Users/olivierchateauneuf/opt/anaconda3/envs/py3711-gram/bin/python -m pip install --upgrade pip' command.\u001b[0m\n",
      "\u001b[38;5;2m✔ Download and installation successful\u001b[0m\n",
      "You can now load the model via spacy.load('en_core_web_sm')\n",
      "\u001b[38;5;2m✔ Linking successful\u001b[0m\n",
      "/Users/olivierchateauneuf/opt/anaconda3/envs/py3711-gram/lib/python3.7/site-packages/en_core_web_sm\n",
      "-->\n",
      "/Users/olivierchateauneuf/opt/anaconda3/envs/py3711-gram/lib/python3.7/site-packages/spacy/data/en\n",
      "You can now load the model via spacy.load('en')\n",
      "Requirement already satisfied: ipywidgets in /Users/olivierchateauneuf/opt/anaconda3/envs/py3711-gram/lib/python3.7/site-packages (7.6.5)\n",
      "Requirement already satisfied: nbformat>=4.2.0 in /Users/olivierchateauneuf/opt/anaconda3/envs/py3711-gram/lib/python3.7/site-packages (from ipywidgets) (5.1.3)\n",
      "Requirement already satisfied: ipython-genutils~=0.2.0 in /Users/olivierchateauneuf/opt/anaconda3/envs/py3711-gram/lib/python3.7/site-packages (from ipywidgets) (0.2.0)\n",
      "Requirement already satisfied: traitlets>=4.3.1 in /Users/olivierchateauneuf/opt/anaconda3/envs/py3711-gram/lib/python3.7/site-packages (from ipywidgets) (5.1.1)\n",
      "Requirement already satisfied: widgetsnbextension~=3.5.0 in /Users/olivierchateauneuf/opt/anaconda3/envs/py3711-gram/lib/python3.7/site-packages (from ipywidgets) (3.5.2)\n",
      "Requirement already satisfied: ipython>=4.0.0; python_version >= \"3.3\" in /Users/olivierchateauneuf/opt/anaconda3/envs/py3711-gram/lib/python3.7/site-packages (from ipywidgets) (7.29.0)\n",
      "Requirement already satisfied: jupyterlab-widgets>=1.0.0; python_version >= \"3.6\" in /Users/olivierchateauneuf/opt/anaconda3/envs/py3711-gram/lib/python3.7/site-packages (from ipywidgets) (1.0.2)\n",
      "Requirement already satisfied: ipykernel>=4.5.1 in /Users/olivierchateauneuf/opt/anaconda3/envs/py3711-gram/lib/python3.7/site-packages (from ipywidgets) (6.4.1)\n",
      "Requirement already satisfied: jupyter-core in /Users/olivierchateauneuf/opt/anaconda3/envs/py3711-gram/lib/python3.7/site-packages (from nbformat>=4.2.0->ipywidgets) (4.9.1)\n",
      "Requirement already satisfied: jsonschema!=2.5.0,>=2.4 in /Users/olivierchateauneuf/opt/anaconda3/envs/py3711-gram/lib/python3.7/site-packages (from nbformat>=4.2.0->ipywidgets) (3.2.0)\n",
      "Requirement already satisfied: notebook>=4.4.1 in /Users/olivierchateauneuf/opt/anaconda3/envs/py3711-gram/lib/python3.7/site-packages (from widgetsnbextension~=3.5.0->ipywidgets) (6.4.6)\n",
      "Requirement already satisfied: pickleshare in /Users/olivierchateauneuf/opt/anaconda3/envs/py3711-gram/lib/python3.7/site-packages (from ipython>=4.0.0; python_version >= \"3.3\"->ipywidgets) (0.7.5)\n",
      "Requirement already satisfied: backcall in /Users/olivierchateauneuf/opt/anaconda3/envs/py3711-gram/lib/python3.7/site-packages (from ipython>=4.0.0; python_version >= \"3.3\"->ipywidgets) (0.2.0)\n",
      "Requirement already satisfied: setuptools>=18.5 in /Users/olivierchateauneuf/opt/anaconda3/envs/py3711-gram/lib/python3.7/site-packages (from ipython>=4.0.0; python_version >= \"3.3\"->ipywidgets) (58.0.4)\n",
      "Requirement already satisfied: appnope; sys_platform == \"darwin\" in /Users/olivierchateauneuf/opt/anaconda3/envs/py3711-gram/lib/python3.7/site-packages (from ipython>=4.0.0; python_version >= \"3.3\"->ipywidgets) (0.1.2)\n",
      "Requirement already satisfied: jedi>=0.16 in /Users/olivierchateauneuf/opt/anaconda3/envs/py3711-gram/lib/python3.7/site-packages (from ipython>=4.0.0; python_version >= \"3.3\"->ipywidgets) (0.18.0)\n",
      "Requirement already satisfied: pygments in /Users/olivierchateauneuf/opt/anaconda3/envs/py3711-gram/lib/python3.7/site-packages (from ipython>=4.0.0; python_version >= \"3.3\"->ipywidgets) (2.10.0)\n",
      "Requirement already satisfied: matplotlib-inline in /Users/olivierchateauneuf/opt/anaconda3/envs/py3711-gram/lib/python3.7/site-packages (from ipython>=4.0.0; python_version >= \"3.3\"->ipywidgets) (0.1.2)\n",
      "Requirement already satisfied: pexpect>4.3; sys_platform != \"win32\" in /Users/olivierchateauneuf/opt/anaconda3/envs/py3711-gram/lib/python3.7/site-packages (from ipython>=4.0.0; python_version >= \"3.3\"->ipywidgets) (4.8.0)\n",
      "Requirement already satisfied: prompt-toolkit!=3.0.0,!=3.0.1,<3.1.0,>=2.0.0 in /Users/olivierchateauneuf/opt/anaconda3/envs/py3711-gram/lib/python3.7/site-packages (from ipython>=4.0.0; python_version >= \"3.3\"->ipywidgets) (3.0.20)\n"
     ]
    },
    {
     "name": "stdout",
     "output_type": "stream",
     "text": [
      "Requirement already satisfied: decorator in /Users/olivierchateauneuf/opt/anaconda3/envs/py3711-gram/lib/python3.7/site-packages (from ipython>=4.0.0; python_version >= \"3.3\"->ipywidgets) (5.1.0)\n",
      "Requirement already satisfied: importlib-metadata<5; python_version < \"3.8.0\" in /Users/olivierchateauneuf/opt/anaconda3/envs/py3711-gram/lib/python3.7/site-packages (from ipykernel>=4.5.1->ipywidgets) (4.8.2)\n",
      "Requirement already satisfied: debugpy<2.0,>=1.0.0 in /Users/olivierchateauneuf/opt/anaconda3/envs/py3711-gram/lib/python3.7/site-packages (from ipykernel>=4.5.1->ipywidgets) (1.5.1)\n",
      "Requirement already satisfied: jupyter-client<8.0 in /Users/olivierchateauneuf/opt/anaconda3/envs/py3711-gram/lib/python3.7/site-packages (from ipykernel>=4.5.1->ipywidgets) (7.0.6)\n",
      "Requirement already satisfied: tornado<7.0,>=4.2 in /Users/olivierchateauneuf/opt/anaconda3/envs/py3711-gram/lib/python3.7/site-packages (from ipykernel>=4.5.1->ipywidgets) (6.1)\n",
      "Requirement already satisfied: argcomplete>=1.12.3; python_version < \"3.8.0\" in /Users/olivierchateauneuf/opt/anaconda3/envs/py3711-gram/lib/python3.7/site-packages (from ipykernel>=4.5.1->ipywidgets) (1.12.3)\n",
      "Requirement already satisfied: six>=1.11.0 in /Users/olivierchateauneuf/opt/anaconda3/envs/py3711-gram/lib/python3.7/site-packages (from jsonschema!=2.5.0,>=2.4->nbformat>=4.2.0->ipywidgets) (1.16.0)\n",
      "Requirement already satisfied: attrs>=17.4.0 in /Users/olivierchateauneuf/opt/anaconda3/envs/py3711-gram/lib/python3.7/site-packages (from jsonschema!=2.5.0,>=2.4->nbformat>=4.2.0->ipywidgets) (21.2.0)\n",
      "Requirement already satisfied: pyrsistent>=0.14.0 in /Users/olivierchateauneuf/opt/anaconda3/envs/py3711-gram/lib/python3.7/site-packages (from jsonschema!=2.5.0,>=2.4->nbformat>=4.2.0->ipywidgets) (0.18.0)\n",
      "Requirement already satisfied: argon2-cffi in /Users/olivierchateauneuf/opt/anaconda3/envs/py3711-gram/lib/python3.7/site-packages (from notebook>=4.4.1->widgetsnbextension~=3.5.0->ipywidgets) (20.1.0)\n",
      "Requirement already satisfied: prometheus-client in /Users/olivierchateauneuf/opt/anaconda3/envs/py3711-gram/lib/python3.7/site-packages (from notebook>=4.4.1->widgetsnbextension~=3.5.0->ipywidgets) (0.12.0)\n",
      "Requirement already satisfied: pyzmq>=17 in /Users/olivierchateauneuf/opt/anaconda3/envs/py3711-gram/lib/python3.7/site-packages (from notebook>=4.4.1->widgetsnbextension~=3.5.0->ipywidgets) (22.3.0)\n",
      "Requirement already satisfied: Send2Trash>=1.8.0 in /Users/olivierchateauneuf/opt/anaconda3/envs/py3711-gram/lib/python3.7/site-packages (from notebook>=4.4.1->widgetsnbextension~=3.5.0->ipywidgets) (1.8.0)\n",
      "Requirement already satisfied: terminado>=0.8.3 in /Users/olivierchateauneuf/opt/anaconda3/envs/py3711-gram/lib/python3.7/site-packages (from notebook>=4.4.1->widgetsnbextension~=3.5.0->ipywidgets) (0.9.4)\n",
      "Requirement already satisfied: nest-asyncio>=1.5 in /Users/olivierchateauneuf/opt/anaconda3/envs/py3711-gram/lib/python3.7/site-packages (from notebook>=4.4.1->widgetsnbextension~=3.5.0->ipywidgets) (1.5.1)\n",
      "Requirement already satisfied: jinja2 in /Users/olivierchateauneuf/opt/anaconda3/envs/py3711-gram/lib/python3.7/site-packages (from notebook>=4.4.1->widgetsnbextension~=3.5.0->ipywidgets) (3.0.2)\n",
      "Requirement already satisfied: nbconvert in /Users/olivierchateauneuf/opt/anaconda3/envs/py3711-gram/lib/python3.7/site-packages (from notebook>=4.4.1->widgetsnbextension~=3.5.0->ipywidgets) (6.1.0)\n",
      "Requirement already satisfied: parso<0.9.0,>=0.8.0 in /Users/olivierchateauneuf/opt/anaconda3/envs/py3711-gram/lib/python3.7/site-packages (from jedi>=0.16->ipython>=4.0.0; python_version >= \"3.3\"->ipywidgets) (0.8.2)\n",
      "Requirement already satisfied: ptyprocess>=0.5 in /Users/olivierchateauneuf/opt/anaconda3/envs/py3711-gram/lib/python3.7/site-packages (from pexpect>4.3; sys_platform != \"win32\"->ipython>=4.0.0; python_version >= \"3.3\"->ipywidgets) (0.7.0)\n",
      "Requirement already satisfied: wcwidth in /Users/olivierchateauneuf/opt/anaconda3/envs/py3711-gram/lib/python3.7/site-packages (from prompt-toolkit!=3.0.0,!=3.0.1,<3.1.0,>=2.0.0->ipython>=4.0.0; python_version >= \"3.3\"->ipywidgets) (0.2.5)\n",
      "Requirement already satisfied: typing-extensions>=3.6.4; python_version < \"3.8\" in /Users/olivierchateauneuf/opt/anaconda3/envs/py3711-gram/lib/python3.7/site-packages (from importlib-metadata<5; python_version < \"3.8.0\"->ipykernel>=4.5.1->ipywidgets) (3.10.0.2)\n",
      "Requirement already satisfied: zipp>=0.5 in /Users/olivierchateauneuf/opt/anaconda3/envs/py3711-gram/lib/python3.7/site-packages (from importlib-metadata<5; python_version < \"3.8.0\"->ipykernel>=4.5.1->ipywidgets) (3.6.0)\n",
      "Requirement already satisfied: entrypoints in /Users/olivierchateauneuf/opt/anaconda3/envs/py3711-gram/lib/python3.7/site-packages (from jupyter-client<8.0->ipykernel>=4.5.1->ipywidgets) (0.3)\n",
      "Requirement already satisfied: python-dateutil>=2.1 in /Users/olivierchateauneuf/opt/anaconda3/envs/py3711-gram/lib/python3.7/site-packages (from jupyter-client<8.0->ipykernel>=4.5.1->ipywidgets) (2.8.2)\n",
      "Requirement already satisfied: cffi>=1.0.0 in /Users/olivierchateauneuf/opt/anaconda3/envs/py3711-gram/lib/python3.7/site-packages (from argon2-cffi->notebook>=4.4.1->widgetsnbextension~=3.5.0->ipywidgets) (1.14.6)\n",
      "Requirement already satisfied: MarkupSafe>=2.0 in /Users/olivierchateauneuf/opt/anaconda3/envs/py3711-gram/lib/python3.7/site-packages (from jinja2->notebook>=4.4.1->widgetsnbextension~=3.5.0->ipywidgets) (2.0.1)\n",
      "Requirement already satisfied: nbclient<0.6.0,>=0.5.0 in /Users/olivierchateauneuf/opt/anaconda3/envs/py3711-gram/lib/python3.7/site-packages (from nbconvert->notebook>=4.4.1->widgetsnbextension~=3.5.0->ipywidgets) (0.5.3)\n",
      "Requirement already satisfied: bleach in /Users/olivierchateauneuf/opt/anaconda3/envs/py3711-gram/lib/python3.7/site-packages (from nbconvert->notebook>=4.4.1->widgetsnbextension~=3.5.0->ipywidgets) (4.0.0)\n",
      "Requirement already satisfied: jupyterlab-pygments in /Users/olivierchateauneuf/opt/anaconda3/envs/py3711-gram/lib/python3.7/site-packages (from nbconvert->notebook>=4.4.1->widgetsnbextension~=3.5.0->ipywidgets) (0.1.2)\n",
      "Requirement already satisfied: pandocfilters>=1.4.1 in /Users/olivierchateauneuf/opt/anaconda3/envs/py3711-gram/lib/python3.7/site-packages (from nbconvert->notebook>=4.4.1->widgetsnbextension~=3.5.0->ipywidgets) (1.4.3)\n",
      "Requirement already satisfied: testpath in /Users/olivierchateauneuf/opt/anaconda3/envs/py3711-gram/lib/python3.7/site-packages (from nbconvert->notebook>=4.4.1->widgetsnbextension~=3.5.0->ipywidgets) (0.5.0)\n",
      "Requirement already satisfied: mistune<2,>=0.8.1 in /Users/olivierchateauneuf/opt/anaconda3/envs/py3711-gram/lib/python3.7/site-packages (from nbconvert->notebook>=4.4.1->widgetsnbextension~=3.5.0->ipywidgets) (0.8.4)\n",
      "Requirement already satisfied: defusedxml in /Users/olivierchateauneuf/opt/anaconda3/envs/py3711-gram/lib/python3.7/site-packages (from nbconvert->notebook>=4.4.1->widgetsnbextension~=3.5.0->ipywidgets) (0.7.1)\n",
      "Requirement already satisfied: pycparser in /Users/olivierchateauneuf/opt/anaconda3/envs/py3711-gram/lib/python3.7/site-packages (from cffi>=1.0.0->argon2-cffi->notebook>=4.4.1->widgetsnbextension~=3.5.0->ipywidgets) (2.21)\n",
      "Requirement already satisfied: async-generator in /Users/olivierchateauneuf/opt/anaconda3/envs/py3711-gram/lib/python3.7/site-packages (from nbclient<0.6.0,>=0.5.0->nbconvert->notebook>=4.4.1->widgetsnbextension~=3.5.0->ipywidgets) (1.10)\n",
      "Requirement already satisfied: packaging in /Users/olivierchateauneuf/opt/anaconda3/envs/py3711-gram/lib/python3.7/site-packages (from bleach->nbconvert->notebook>=4.4.1->widgetsnbextension~=3.5.0->ipywidgets) (21.3)\n",
      "Requirement already satisfied: webencodings in /Users/olivierchateauneuf/opt/anaconda3/envs/py3711-gram/lib/python3.7/site-packages (from bleach->nbconvert->notebook>=4.4.1->widgetsnbextension~=3.5.0->ipywidgets) (0.5.1)\n",
      "Requirement already satisfied: pyparsing!=3.0.5,>=2.0.2 in /Users/olivierchateauneuf/opt/anaconda3/envs/py3711-gram/lib/python3.7/site-packages (from packaging->bleach->nbconvert->notebook>=4.4.1->widgetsnbextension~=3.5.0->ipywidgets) (3.0.4)\n",
      "\u001b[33mWARNING: You are using pip version 20.1.1; however, version 21.3.1 is available.\n",
      "You should consider upgrading via the '/Users/olivierchateauneuf/opt/anaconda3/envs/py3711-gram/bin/python -m pip install --upgrade pip' command.\u001b[0m\n"
     ]
    }
   ],
   "source": [
    "!pip install -U git+https://github.com/PrithivirajDamodaran/Gramformer.git   "
   ]
  },
  {
   "cell_type": "markdown",
   "metadata": {},
   "source": [
    "# 2. Import Dependencies"
   ]
  },
  {
   "cell_type": "code",
   "execution_count": 3,
   "metadata": {
    "ExecuteTime": {
     "end_time": "2021-12-07T08:07:30.513593Z",
     "start_time": "2021-12-07T08:07:30.479774Z"
    }
   },
   "outputs": [],
   "source": [
    "from gramformer import Gramformer"
   ]
  },
  {
   "cell_type": "markdown",
   "metadata": {},
   "source": [
    "# 3. Instantiate Gramformer"
   ]
  },
  {
   "cell_type": "code",
   "execution_count": 6,
   "metadata": {
    "ExecuteTime": {
     "end_time": "2021-12-07T08:11:24.786156Z",
     "start_time": "2021-12-07T08:10:16.051678Z"
    }
   },
   "outputs": [
    {
     "name": "stdout",
     "output_type": "stream",
     "text": [
      "[Gramformer] Grammar error correct/highlight model loaded..\n"
     ]
    }
   ],
   "source": [
    "gf = Gramformer(models = 1, use_gpu=False) # 1=corrector, 2=detector"
   ]
  },
  {
   "cell_type": "markdown",
   "metadata": {},
   "source": [
    "# 4. Run Correction"
   ]
  },
  {
   "cell_type": "code",
   "execution_count": 39,
   "metadata": {
    "ExecuteTime": {
     "end_time": "2021-12-07T08:48:14.978799Z",
     "start_time": "2021-12-07T08:48:01.933010Z"
    }
   },
   "outputs": [
    {
     "data": {
      "text/plain": [
       "[(\"Let's say we completed the task.\", -38.720664978027344),\n",
       " (\"Let's say we perform the task.\", -39.384735107421875),\n",
       " (\"Let's say we have finished the task.\", -39.71428680419922),\n",
       " ('Let us say we have completed the task.', -40.43932342529297),\n",
       " (\"Let's say we performed the task.\", -40.77891540527344),\n",
       " ('Let us say that we have completed the task.', -40.96179962158203),\n",
       " (\"Let's say we have done the task.\", -41.50518035888672),\n",
       " (\"Let's say we've performed the task.\", -43.22132110595703),\n",
       " (\"Let's say we have performed the task.\", -43.59819793701172)]"
      ]
     },
     "execution_count": 39,
     "metadata": {},
     "output_type": "execute_result"
    }
   ],
   "source": [
    "gf.correct('Let\\'s says we has perform the task', max_candidates=15)"
   ]
  },
  {
   "cell_type": "code",
   "execution_count": 40,
   "metadata": {
    "ExecuteTime": {
     "end_time": "2021-12-07T08:49:34.051847Z",
     "start_time": "2021-12-07T08:49:32.788550Z"
    }
   },
   "outputs": [
    {
     "data": {
      "text/plain": [
       "\"Let's say we have performed the task.\""
      ]
     },
     "execution_count": 40,
     "metadata": {},
     "output_type": "execute_result"
    }
   ],
   "source": [
    "gf.correct('Let\\'s says we has perform the task')[0][0]"
   ]
  },
  {
   "cell_type": "markdown",
   "metadata": {},
   "source": [
    "# 5. Run Multiple Corrections"
   ]
  },
  {
   "cell_type": "code",
   "execution_count": 43,
   "metadata": {
    "ExecuteTime": {
     "end_time": "2021-12-07T08:51:10.265247Z",
     "start_time": "2021-12-07T08:51:10.256029Z"
    }
   },
   "outputs": [],
   "source": [
    "sentences = [ \n",
    "    'I whish my Computer was run rapidely.',\n",
    "    'I walk to the store and I bought milk.',\n",
    "    'I will eat fish for dinner and drank milk.',\n",
    "    'We all eat the fish and then made dessert.',\n",
    "    'Anna and Pat are married; he has been together for 20 years. '\n",
    "]"
   ]
  },
  {
   "cell_type": "code",
   "execution_count": 45,
   "metadata": {
    "ExecuteTime": {
     "end_time": "2021-12-07T08:51:35.212209Z",
     "start_time": "2021-12-07T08:51:28.584990Z"
    }
   },
   "outputs": [
    {
     "name": "stdout",
     "output_type": "stream",
     "text": [
      "I wish my computer was running quickly.\n",
      "I walked to the store and I bought milk.\n",
      "I ate fish for dinner and drank milk.\n",
      "We all ate the fish and then made dessert.\n",
      "Anna and Pat are married and have been together for 20 years.\n"
     ]
    }
   ],
   "source": [
    "for sentence in sentences:\n",
    "    res = gf.correct(sentence)\n",
    "    print(res[0][0])"
   ]
  },
  {
   "cell_type": "markdown",
   "metadata": {},
   "source": [
    "# 6. Configure the Interface using Gradio"
   ]
  },
  {
   "cell_type": "code",
   "execution_count": 24,
   "metadata": {
    "ExecuteTime": {
     "end_time": "2021-12-07T08:28:49.986397Z",
     "start_time": "2021-12-07T08:27:00.455726Z"
    },
    "collapsed": true
   },
   "outputs": [
    {
     "name": "stdout",
     "output_type": "stream",
     "text": [
      "huggingface/tokenizers: The current process just got forked, after parallelism has already been used. Disabling parallelism to avoid deadlocks...\n",
      "To disable this warning, you can either:\n",
      "\t- Avoid using `tokenizers` before the fork if possible\n",
      "\t- Explicitly set the environment variable TOKENIZERS_PARALLELISM=(true | false)\n",
      "Collecting gradio\n",
      "  Using cached gradio-2.4.6-py3-none-any.whl (979 kB)\n",
      "Collecting pandas\n",
      "  Using cached pandas-1.3.4-cp37-cp37m-macosx_10_9_x86_64.whl (11.3 MB)\n",
      "Requirement already satisfied: pillow in /Users/olivierchateauneuf/opt/anaconda3/envs/py3711-gram/lib/python3.7/site-packages (from gradio) (8.4.0)\n",
      "Collecting flask-cachebuster\n",
      "  Using cached Flask-CacheBuster-1.0.0.tar.gz (3.1 kB)\n",
      "Collecting pydub\n",
      "  Using cached pydub-0.25.1-py2.py3-none-any.whl (32 kB)\n",
      "Requirement already satisfied: requests in /Users/olivierchateauneuf/opt/anaconda3/envs/py3711-gram/lib/python3.7/site-packages (from gradio) (2.26.0)\n",
      "Collecting Flask-Login\n",
      "  Using cached Flask_Login-0.5.0-py2.py3-none-any.whl (16 kB)\n",
      "Collecting pycryptodome\n",
      "  Using cached pycryptodome-3.12.0-cp35-abi3-macosx_10_9_x86_64.whl (1.5 MB)\n",
      "Collecting Flask-Cors>=3.0.8\n",
      "  Using cached Flask_Cors-3.0.10-py2.py3-none-any.whl (14 kB)\n",
      "Collecting ffmpy\n",
      "  Using cached ffmpy-0.3.0.tar.gz (4.8 kB)\n",
      "Collecting analytics-python\n",
      "  Using cached analytics_python-1.4.0-py2.py3-none-any.whl (15 kB)\n",
      "Collecting paramiko\n",
      "  Using cached paramiko-2.8.1-py2.py3-none-any.whl (206 kB)\n",
      "Collecting markdown2\n",
      "  Using cached markdown2-2.4.2-py2.py3-none-any.whl (34 kB)\n",
      "Collecting Flask>=1.1.1\n",
      "  Using cached Flask-2.0.2-py3-none-any.whl (95 kB)\n",
      "Requirement already satisfied: numpy in /Users/olivierchateauneuf/opt/anaconda3/envs/py3711-gram/lib/python3.7/site-packages (from gradio) (1.21.4)\n",
      "Collecting matplotlib\n",
      "  Using cached matplotlib-3.5.0-cp37-cp37m-macosx_10_9_x86_64.whl (7.3 MB)\n",
      "Collecting pytz>=2017.3\n",
      "  Using cached pytz-2021.3-py2.py3-none-any.whl (503 kB)\n",
      "Requirement already satisfied: python-dateutil>=2.7.3 in /Users/olivierchateauneuf/opt/anaconda3/envs/py3711-gram/lib/python3.7/site-packages (from pandas->gradio) (2.8.2)\n",
      "Requirement already satisfied: idna<4,>=2.5; python_version >= \"3\" in /Users/olivierchateauneuf/opt/anaconda3/envs/py3711-gram/lib/python3.7/site-packages (from requests->gradio) (3.3)\n",
      "Requirement already satisfied: urllib3<1.27,>=1.21.1 in /Users/olivierchateauneuf/opt/anaconda3/envs/py3711-gram/lib/python3.7/site-packages (from requests->gradio) (1.26.7)\n",
      "Requirement already satisfied: charset-normalizer~=2.0.0; python_version >= \"3\" in /Users/olivierchateauneuf/opt/anaconda3/envs/py3711-gram/lib/python3.7/site-packages (from requests->gradio) (2.0.9)\n",
      "Requirement already satisfied: certifi>=2017.4.17 in /Users/olivierchateauneuf/opt/anaconda3/envs/py3711-gram/lib/python3.7/site-packages (from requests->gradio) (2021.10.8)\n",
      "Requirement already satisfied: Six in /Users/olivierchateauneuf/opt/anaconda3/envs/py3711-gram/lib/python3.7/site-packages (from Flask-Cors>=3.0.8->gradio) (1.16.0)\n",
      "Collecting monotonic>=1.5\n",
      "  Using cached monotonic-1.6-py2.py3-none-any.whl (8.2 kB)\n",
      "Collecting backoff==1.10.0\n",
      "  Using cached backoff-1.10.0-py2.py3-none-any.whl (31 kB)\n",
      "Collecting pynacl>=1.0.1\n",
      "  Using cached PyNaCl-1.4.0-cp35-abi3-macosx_10_10_x86_64.whl (380 kB)\n",
      "Collecting bcrypt>=3.1.3\n",
      "  Using cached bcrypt-3.2.0-cp36-abi3-macosx_10_9_x86_64.whl (31 kB)\n",
      "Collecting cryptography>=2.5\n",
      "  Downloading cryptography-36.0.0-cp36-abi3-macosx_10_10_x86_64.whl (2.6 MB)\n",
      "\u001b[K     |████████████████████████████████| 2.6 MB 9.7 MB/s eta 0:00:01\n",
      "\u001b[?25hRequirement already satisfied: click>=7.1.2 in /Users/olivierchateauneuf/opt/anaconda3/envs/py3711-gram/lib/python3.7/site-packages (from Flask>=1.1.1->gradio) (8.0.3)\n",
      "Collecting Werkzeug>=2.0\n",
      "  Using cached Werkzeug-2.0.2-py3-none-any.whl (288 kB)\n",
      "Requirement already satisfied: Jinja2>=3.0 in /Users/olivierchateauneuf/opt/anaconda3/envs/py3711-gram/lib/python3.7/site-packages (from Flask>=1.1.1->gradio) (3.0.2)\n",
      "Collecting itsdangerous>=2.0\n",
      "  Using cached itsdangerous-2.0.1-py3-none-any.whl (18 kB)\n",
      "Collecting cycler>=0.10\n",
      "  Using cached cycler-0.11.0-py3-none-any.whl (6.4 kB)\n",
      "Collecting fonttools>=4.22.0\n",
      "  Using cached fonttools-4.28.3-py3-none-any.whl (884 kB)\n",
      "Requirement already satisfied: packaging>=20.0 in /Users/olivierchateauneuf/opt/anaconda3/envs/py3711-gram/lib/python3.7/site-packages (from matplotlib->gradio) (21.3)\n",
      "Requirement already satisfied: pyparsing>=2.2.1 in /Users/olivierchateauneuf/opt/anaconda3/envs/py3711-gram/lib/python3.7/site-packages (from matplotlib->gradio) (3.0.4)\n",
      "Collecting setuptools-scm>=4\n",
      "  Using cached setuptools_scm-6.3.2-py3-none-any.whl (33 kB)\n",
      "Collecting kiwisolver>=1.0.1\n",
      "  Using cached kiwisolver-1.3.2-cp37-cp37m-macosx_10_9_x86_64.whl (61 kB)\n",
      "Requirement already satisfied: cffi>=1.4.1 in /Users/olivierchateauneuf/opt/anaconda3/envs/py3711-gram/lib/python3.7/site-packages (from pynacl>=1.0.1->paramiko->gradio) (1.14.6)\n",
      "Requirement already satisfied: importlib-metadata; python_version < \"3.8\" in /Users/olivierchateauneuf/opt/anaconda3/envs/py3711-gram/lib/python3.7/site-packages (from click>=7.1.2->Flask>=1.1.1->gradio) (4.8.2)\n",
      "Requirement already satisfied: MarkupSafe>=2.0 in /Users/olivierchateauneuf/opt/anaconda3/envs/py3711-gram/lib/python3.7/site-packages (from Jinja2>=3.0->Flask>=1.1.1->gradio) (2.0.1)\n",
      "Requirement already satisfied: setuptools in /Users/olivierchateauneuf/opt/anaconda3/envs/py3711-gram/lib/python3.7/site-packages (from setuptools-scm>=4->matplotlib->gradio) (58.0.4)\n",
      "Collecting tomli>=1.0.0\n",
      "  Using cached tomli-1.2.2-py3-none-any.whl (12 kB)\n",
      "Requirement already satisfied: pycparser in /Users/olivierchateauneuf/opt/anaconda3/envs/py3711-gram/lib/python3.7/site-packages (from cffi>=1.4.1->pynacl>=1.0.1->paramiko->gradio) (2.21)\n",
      "Requirement already satisfied: typing-extensions>=3.6.4; python_version < \"3.8\" in /Users/olivierchateauneuf/opt/anaconda3/envs/py3711-gram/lib/python3.7/site-packages (from importlib-metadata; python_version < \"3.8\"->click>=7.1.2->Flask>=1.1.1->gradio) (3.10.0.2)\n",
      "Requirement already satisfied: zipp>=0.5 in /Users/olivierchateauneuf/opt/anaconda3/envs/py3711-gram/lib/python3.7/site-packages (from importlib-metadata; python_version < \"3.8\"->click>=7.1.2->Flask>=1.1.1->gradio) (3.6.0)\n",
      "Building wheels for collected packages: flask-cachebuster, ffmpy\n",
      "  Building wheel for flask-cachebuster (setup.py) ... \u001b[?25ldone\n",
      "\u001b[?25h  Created wheel for flask-cachebuster: filename=Flask_CacheBuster-1.0.0-py3-none-any.whl size=3371 sha256=1e67669f69bb24db329a9c3c0c0faa45ce10a305767eaea1bbb266c7476b20d6\n",
      "  Stored in directory: /Users/olivierchateauneuf/Library/Caches/pip/wheels/28/c0/c4/44687421dab41455be93112bd1b0dee1f3c5a9aa27bee63708\n",
      "  Building wheel for ffmpy (setup.py) ... \u001b[?25ldone\n",
      "\u001b[?25h  Created wheel for ffmpy: filename=ffmpy-0.3.0-py3-none-any.whl size=4710 sha256=d2b6e19559608a9633462cca44c079b5034361fdbebb665081e07344819c6d5f\n",
      "  Stored in directory: /Users/olivierchateauneuf/Library/Caches/pip/wheels/13/e4/6c/e8059816e86796a597c6e6b0d4c880630f51a1fcfa0befd5e6\n",
      "Successfully built flask-cachebuster ffmpy\n",
      "Installing collected packages: pytz, pandas, Werkzeug, itsdangerous, Flask, flask-cachebuster, pydub, Flask-Login, pycryptodome, Flask-Cors, ffmpy, monotonic, backoff, analytics-python, pynacl, bcrypt, cryptography, paramiko, markdown2, cycler, fonttools, tomli, setuptools-scm, kiwisolver, matplotlib, gradio\n",
      "Successfully installed Flask-2.0.2 Flask-Cors-3.0.10 Flask-Login-0.5.0 Werkzeug-2.0.2 analytics-python-1.4.0 backoff-1.10.0 bcrypt-3.2.0 cryptography-36.0.0 cycler-0.11.0 ffmpy-0.3.0 flask-cachebuster-1.0.0 fonttools-4.28.3 gradio-2.4.6 itsdangerous-2.0.1 kiwisolver-1.3.2 markdown2-2.4.2 matplotlib-3.5.0 monotonic-1.6 pandas-1.3.4 paramiko-2.8.1 pycryptodome-3.12.0 pydub-0.25.1 pynacl-1.4.0 pytz-2021.3 setuptools-scm-6.3.2 tomli-1.2.2\n",
      "\u001b[33mWARNING: You are using pip version 20.1.1; however, version 21.3.1 is available.\n",
      "You should consider upgrading via the '/Users/olivierchateauneuf/opt/anaconda3/envs/py3711-gram/bin/python -m pip install --upgrade pip' command.\u001b[0m\n"
     ]
    }
   ],
   "source": [
    "!pip install gradio"
   ]
  },
  {
   "cell_type": "code",
   "execution_count": 25,
   "metadata": {
    "ExecuteTime": {
     "end_time": "2021-12-07T08:32:57.744757Z",
     "start_time": "2021-12-07T08:32:39.705123Z"
    }
   },
   "outputs": [],
   "source": [
    "import gradio as gr"
   ]
  },
  {
   "cell_type": "code",
   "execution_count": 32,
   "metadata": {
    "ExecuteTime": {
     "end_time": "2021-12-07T08:34:49.881461Z",
     "start_time": "2021-12-07T08:34:49.872827Z"
    }
   },
   "outputs": [],
   "source": [
    "def correct(sentence):\n",
    "    res = gf.correct(sentence) # Gramformer correct\n",
    "    return res[0][0] # Return second value in res array"
   ]
  },
  {
   "cell_type": "code",
   "execution_count": 46,
   "metadata": {
    "ExecuteTime": {
     "end_time": "2021-12-07T08:51:47.572516Z",
     "start_time": "2021-12-07T08:51:47.566847Z"
    }
   },
   "outputs": [],
   "source": [
    "app_inputs = gr.inputs.Textbox(lines=2, placeholder=\"Enter sentence here...\")"
   ]
  },
  {
   "cell_type": "code",
   "execution_count": 47,
   "metadata": {
    "ExecuteTime": {
     "end_time": "2021-12-07T08:51:49.385070Z",
     "start_time": "2021-12-07T08:51:48.494124Z"
    }
   },
   "outputs": [],
   "source": [
    "interface = gr.Interface(fn=correct, \n",
    "                        inputs=app_inputs, \n",
    "                        outputs='text', \n",
    "                        title='Entry Form Using Gramformer')"
   ]
  },
  {
   "cell_type": "code",
   "execution_count": 48,
   "metadata": {
    "ExecuteTime": {
     "end_time": "2021-12-07T08:51:51.475442Z",
     "start_time": "2021-12-07T08:51:49.391743Z"
    },
    "scrolled": false
   },
   "outputs": [
    {
     "name": "stdout",
     "output_type": "stream",
     "text": [
      "Running on local URL:  http://127.0.0.1:7865/\n",
      "\n",
      "To create a public link, set `share=True` in `launch()`.\n"
     ]
    },
    {
     "data": {
      "text/html": [
       "\n",
       "        <iframe\n",
       "            width=\"900\"\n",
       "            height=\"500\"\n",
       "            src=\"http://127.0.0.1:7865/\"\n",
       "            frameborder=\"0\"\n",
       "            allowfullscreen\n",
       "            \n",
       "        ></iframe>\n",
       "        "
      ],
      "text/plain": [
       "<IPython.lib.display.IFrame at 0x7fb3220201d0>"
      ]
     },
     "metadata": {},
     "output_type": "display_data"
    }
   ],
   "source": [
    "interface.launch();"
   ]
  },
  {
   "cell_type": "code",
   "execution_count": null,
   "metadata": {},
   "outputs": [],
   "source": []
  }
 ],
 "metadata": {
  "hide_input": false,
  "kernelspec": {
   "display_name": "Python [conda env:py3711-gram]",
   "language": "python",
   "name": "conda-env-py3711-gram-py"
  },
  "language_info": {
   "codemirror_mode": {
    "name": "ipython",
    "version": 3
   },
   "file_extension": ".py",
   "mimetype": "text/x-python",
   "name": "python",
   "nbconvert_exporter": "python",
   "pygments_lexer": "ipython3",
   "version": "3.7.11"
  }
 },
 "nbformat": 4,
 "nbformat_minor": 2
}
