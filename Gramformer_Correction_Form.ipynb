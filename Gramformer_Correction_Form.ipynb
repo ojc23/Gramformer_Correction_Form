{
 "cells": [
  {
   "cell_type": "markdown",
   "metadata": {},
   "source": [
    "# 1. Install Dependencies"
   ]
  },
  {
   "cell_type": "code",
   "execution_count": null,
   "metadata": {
    "ExecuteTime": {
     "end_time": "2021-12-07T08:06:17.922459Z",
     "start_time": "2021-12-07T08:05:05.085636Z"
    }
   },
   "outputs": [],
   "source": [
    "!pip install -U git+https://github.com/PrithivirajDamodaran/Gramformer.git   "
   ]
  },
  {
   "cell_type": "markdown",
   "metadata": {},
   "source": [
    "# 2. Import Dependencies"
   ]
  },
  {
   "cell_type": "code",
   "execution_count": 3,
   "metadata": {
    "ExecuteTime": {
     "end_time": "2021-12-07T08:07:30.513593Z",
     "start_time": "2021-12-07T08:07:30.479774Z"
    }
   },
   "outputs": [],
   "source": [
    "from gramformer import Gramformer"
   ]
  },
  {
   "cell_type": "markdown",
   "metadata": {},
   "source": [
    "# 3. Instantiate Gramformer"
   ]
  },
  {
   "cell_type": "code",
   "execution_count": 6,
   "metadata": {
    "ExecuteTime": {
     "end_time": "2021-12-07T08:11:24.786156Z",
     "start_time": "2021-12-07T08:10:16.051678Z"
    }
   },
   "outputs": [
    {
     "name": "stdout",
     "output_type": "stream",
     "text": [
      "[Gramformer] Grammar error correct/highlight model loaded..\n"
     ]
    }
   ],
   "source": [
    "gf = Gramformer(models = 1, use_gpu=False) # 1=corrector, 2=detector"
   ]
  },
  {
   "cell_type": "markdown",
   "metadata": {},
   "source": [
    "# 4. Run Correction"
   ]
  },
  {
   "cell_type": "code",
   "execution_count": 39,
   "metadata": {
    "ExecuteTime": {
     "end_time": "2021-12-07T08:48:14.978799Z",
     "start_time": "2021-12-07T08:48:01.933010Z"
    }
   },
   "outputs": [
    {
     "data": {
      "text/plain": [
       "[(\"Let's say we completed the task.\", -38.720664978027344),\n",
       " (\"Let's say we perform the task.\", -39.384735107421875),\n",
       " (\"Let's say we have finished the task.\", -39.71428680419922),\n",
       " ('Let us say we have completed the task.', -40.43932342529297),\n",
       " (\"Let's say we performed the task.\", -40.77891540527344),\n",
       " ('Let us say that we have completed the task.', -40.96179962158203),\n",
       " (\"Let's say we have done the task.\", -41.50518035888672),\n",
       " (\"Let's say we've performed the task.\", -43.22132110595703),\n",
       " (\"Let's say we have performed the task.\", -43.59819793701172)]"
      ]
     },
     "execution_count": 39,
     "metadata": {},
     "output_type": "execute_result"
    }
   ],
   "source": [
    "gf.correct('Let\\'s says we has perform the task', max_candidates=15)"
   ]
  },
  {
   "cell_type": "code",
   "execution_count": 40,
   "metadata": {
    "ExecuteTime": {
     "end_time": "2021-12-07T08:49:34.051847Z",
     "start_time": "2021-12-07T08:49:32.788550Z"
    }
   },
   "outputs": [
    {
     "data": {
      "text/plain": [
       "\"Let's say we have performed the task.\""
      ]
     },
     "execution_count": 40,
     "metadata": {},
     "output_type": "execute_result"
    }
   ],
   "source": [
    "gf.correct('Let\\'s says we has perform the task')[0][0]"
   ]
  },
  {
   "cell_type": "markdown",
   "metadata": {},
   "source": [
    "# 5. Run Multiple Corrections"
   ]
  },
  {
   "cell_type": "code",
   "execution_count": 43,
   "metadata": {
    "ExecuteTime": {
     "end_time": "2021-12-07T08:51:10.265247Z",
     "start_time": "2021-12-07T08:51:10.256029Z"
    }
   },
   "outputs": [],
   "source": [
    "sentences = [ \n",
    "    'I whish my Computer was run rapidely.',\n",
    "    'I walk to the store and I bought milk.',\n",
    "    'I will eat fish for dinner and drank milk.',\n",
    "    'We all eat the fish and then made dessert.',\n",
    "    'Anna and Pat are married; he has been together for 20 years. '\n",
    "]"
   ]
  },
  {
   "cell_type": "code",
   "execution_count": 45,
   "metadata": {
    "ExecuteTime": {
     "end_time": "2021-12-07T08:51:35.212209Z",
     "start_time": "2021-12-07T08:51:28.584990Z"
    }
   },
   "outputs": [
    {
     "name": "stdout",
     "output_type": "stream",
     "text": [
      "I wish my computer was running quickly.\n",
      "I walked to the store and I bought milk.\n",
      "I ate fish for dinner and drank milk.\n",
      "We all ate the fish and then made dessert.\n",
      "Anna and Pat are married and have been together for 20 years.\n"
     ]
    }
   ],
   "source": [
    "for sentence in sentences:\n",
    "    res = gf.correct(sentence)\n",
    "    print(res[0][0])"
   ]
  },
  {
   "cell_type": "markdown",
   "metadata": {},
   "source": [
    "# 6. Configure the Interface using Gradio"
   ]
  },
  {
   "cell_type": "code",
   "execution_count": 24,
   "metadata": {
    "ExecuteTime": {
     "end_time": "2021-12-07T08:28:49.986397Z",
     "start_time": "2021-12-07T08:27:00.455726Z"
    },
    "collapsed": true
   },
   "outputs": [
    {
     "name": "stdout",
     "output_type": "stream",
     "text": [
      "huggingface/tokenizers: The current process just got forked, after parallelism has already been used. Disabling parallelism to avoid deadlocks...\n",
      "To disable this warning, you can either:\n",
      "\t- Avoid using `tokenizers` before the fork if possible\n",
      "\t- Explicitly set the environment variable TOKENIZERS_PARALLELISM=(true | false)\n",
      "Collecting gradio\n",
      "  Using cached gradio-2.4.6-py3-none-any.whl (979 kB)\n",
      "Collecting pandas\n",
      "  Using cached pandas-1.3.4-cp37-cp37m-macosx_10_9_x86_64.whl (11.3 MB)\n",
      "Requirement already satisfied: pillow in /Users/olivierchateauneuf/opt/anaconda3/envs/py3711-gram/lib/python3.7/site-packages (from gradio) (8.4.0)\n",
      "Collecting flask-cachebuster\n",
      "  Using cached Flask-CacheBuster-1.0.0.tar.gz (3.1 kB)\n",
      "Collecting pydub\n",
      "  Using cached pydub-0.25.1-py2.py3-none-any.whl (32 kB)\n",
      "Requirement already satisfied: requests in /Users/olivierchateauneuf/opt/anaconda3/envs/py3711-gram/lib/python3.7/site-packages (from gradio) (2.26.0)\n",
      "Collecting Flask-Login\n",
      "  Using cached Flask_Login-0.5.0-py2.py3-none-any.whl (16 kB)\n",
      "Collecting pycryptodome\n",
      "  Using cached pycryptodome-3.12.0-cp35-abi3-macosx_10_9_x86_64.whl (1.5 MB)\n",
      "Collecting Flask-Cors>=3.0.8\n",
      "  Using cached Flask_Cors-3.0.10-py2.py3-none-any.whl (14 kB)\n",
      "Collecting ffmpy\n",
      "  Using cached ffmpy-0.3.0.tar.gz (4.8 kB)\n",
      "Collecting analytics-python\n",
      "  Using cached analytics_python-1.4.0-py2.py3-none-any.whl (15 kB)\n",
      "Collecting paramiko\n",
      "  Using cached paramiko-2.8.1-py2.py3-none-any.whl (206 kB)\n",
      "Collecting markdown2\n",
      "  Using cached markdown2-2.4.2-py2.py3-none-any.whl (34 kB)\n",
      "Collecting Flask>=1.1.1\n",
      "  Using cached Flask-2.0.2-py3-none-any.whl (95 kB)\n",
      "Requirement already satisfied: numpy in /Users/olivierchateauneuf/opt/anaconda3/envs/py3711-gram/lib/python3.7/site-packages (from gradio) (1.21.4)\n",
      "Collecting matplotlib\n",
      "  Using cached matplotlib-3.5.0-cp37-cp37m-macosx_10_9_x86_64.whl (7.3 MB)\n",
      "Collecting pytz>=2017.3\n",
      "  Using cached pytz-2021.3-py2.py3-none-any.whl (503 kB)\n",
      "Requirement already satisfied: python-dateutil>=2.7.3 in /Users/olivierchateauneuf/opt/anaconda3/envs/py3711-gram/lib/python3.7/site-packages (from pandas->gradio) (2.8.2)\n",
      "Requirement already satisfied: idna<4,>=2.5; python_version >= \"3\" in /Users/olivierchateauneuf/opt/anaconda3/envs/py3711-gram/lib/python3.7/site-packages (from requests->gradio) (3.3)\n",
      "Requirement already satisfied: urllib3<1.27,>=1.21.1 in /Users/olivierchateauneuf/opt/anaconda3/envs/py3711-gram/lib/python3.7/site-packages (from requests->gradio) (1.26.7)\n",
      "Requirement already satisfied: charset-normalizer~=2.0.0; python_version >= \"3\" in /Users/olivierchateauneuf/opt/anaconda3/envs/py3711-gram/lib/python3.7/site-packages (from requests->gradio) (2.0.9)\n",
      "Requirement already satisfied: certifi>=2017.4.17 in /Users/olivierchateauneuf/opt/anaconda3/envs/py3711-gram/lib/python3.7/site-packages (from requests->gradio) (2021.10.8)\n",
      "Requirement already satisfied: Six in /Users/olivierchateauneuf/opt/anaconda3/envs/py3711-gram/lib/python3.7/site-packages (from Flask-Cors>=3.0.8->gradio) (1.16.0)\n",
      "Collecting monotonic>=1.5\n",
      "  Using cached monotonic-1.6-py2.py3-none-any.whl (8.2 kB)\n",
      "Collecting backoff==1.10.0\n",
      "  Using cached backoff-1.10.0-py2.py3-none-any.whl (31 kB)\n",
      "Collecting pynacl>=1.0.1\n",
      "  Using cached PyNaCl-1.4.0-cp35-abi3-macosx_10_10_x86_64.whl (380 kB)\n",
      "Collecting bcrypt>=3.1.3\n",
      "  Using cached bcrypt-3.2.0-cp36-abi3-macosx_10_9_x86_64.whl (31 kB)\n",
      "Collecting cryptography>=2.5\n",
      "  Downloading cryptography-36.0.0-cp36-abi3-macosx_10_10_x86_64.whl (2.6 MB)\n",
      "\u001b[K     |████████████████████████████████| 2.6 MB 9.7 MB/s eta 0:00:01\n",
      "\u001b[?25hRequirement already satisfied: click>=7.1.2 in /Users/olivierchateauneuf/opt/anaconda3/envs/py3711-gram/lib/python3.7/site-packages (from Flask>=1.1.1->gradio) (8.0.3)\n",
      "Collecting Werkzeug>=2.0\n",
      "  Using cached Werkzeug-2.0.2-py3-none-any.whl (288 kB)\n",
      "Requirement already satisfied: Jinja2>=3.0 in /Users/olivierchateauneuf/opt/anaconda3/envs/py3711-gram/lib/python3.7/site-packages (from Flask>=1.1.1->gradio) (3.0.2)\n",
      "Collecting itsdangerous>=2.0\n",
      "  Using cached itsdangerous-2.0.1-py3-none-any.whl (18 kB)\n",
      "Collecting cycler>=0.10\n",
      "  Using cached cycler-0.11.0-py3-none-any.whl (6.4 kB)\n",
      "Collecting fonttools>=4.22.0\n",
      "  Using cached fonttools-4.28.3-py3-none-any.whl (884 kB)\n",
      "Requirement already satisfied: packaging>=20.0 in /Users/olivierchateauneuf/opt/anaconda3/envs/py3711-gram/lib/python3.7/site-packages (from matplotlib->gradio) (21.3)\n",
      "Requirement already satisfied: pyparsing>=2.2.1 in /Users/olivierchateauneuf/opt/anaconda3/envs/py3711-gram/lib/python3.7/site-packages (from matplotlib->gradio) (3.0.4)\n",
      "Collecting setuptools-scm>=4\n",
      "  Using cached setuptools_scm-6.3.2-py3-none-any.whl (33 kB)\n",
      "Collecting kiwisolver>=1.0.1\n",
      "  Using cached kiwisolver-1.3.2-cp37-cp37m-macosx_10_9_x86_64.whl (61 kB)\n",
      "Requirement already satisfied: cffi>=1.4.1 in /Users/olivierchateauneuf/opt/anaconda3/envs/py3711-gram/lib/python3.7/site-packages (from pynacl>=1.0.1->paramiko->gradio) (1.14.6)\n",
      "Requirement already satisfied: importlib-metadata; python_version < \"3.8\" in /Users/olivierchateauneuf/opt/anaconda3/envs/py3711-gram/lib/python3.7/site-packages (from click>=7.1.2->Flask>=1.1.1->gradio) (4.8.2)\n",
      "Requirement already satisfied: MarkupSafe>=2.0 in /Users/olivierchateauneuf/opt/anaconda3/envs/py3711-gram/lib/python3.7/site-packages (from Jinja2>=3.0->Flask>=1.1.1->gradio) (2.0.1)\n",
      "Requirement already satisfied: setuptools in /Users/olivierchateauneuf/opt/anaconda3/envs/py3711-gram/lib/python3.7/site-packages (from setuptools-scm>=4->matplotlib->gradio) (58.0.4)\n",
      "Collecting tomli>=1.0.0\n",
      "  Using cached tomli-1.2.2-py3-none-any.whl (12 kB)\n",
      "Requirement already satisfied: pycparser in /Users/olivierchateauneuf/opt/anaconda3/envs/py3711-gram/lib/python3.7/site-packages (from cffi>=1.4.1->pynacl>=1.0.1->paramiko->gradio) (2.21)\n",
      "Requirement already satisfied: typing-extensions>=3.6.4; python_version < \"3.8\" in /Users/olivierchateauneuf/opt/anaconda3/envs/py3711-gram/lib/python3.7/site-packages (from importlib-metadata; python_version < \"3.8\"->click>=7.1.2->Flask>=1.1.1->gradio) (3.10.0.2)\n",
      "Requirement already satisfied: zipp>=0.5 in /Users/olivierchateauneuf/opt/anaconda3/envs/py3711-gram/lib/python3.7/site-packages (from importlib-metadata; python_version < \"3.8\"->click>=7.1.2->Flask>=1.1.1->gradio) (3.6.0)\n",
      "Building wheels for collected packages: flask-cachebuster, ffmpy\n",
      "  Building wheel for flask-cachebuster (setup.py) ... \u001b[?25ldone\n",
      "\u001b[?25h  Created wheel for flask-cachebuster: filename=Flask_CacheBuster-1.0.0-py3-none-any.whl size=3371 sha256=1e67669f69bb24db329a9c3c0c0faa45ce10a305767eaea1bbb266c7476b20d6\n",
      "  Stored in directory: /Users/olivierchateauneuf/Library/Caches/pip/wheels/28/c0/c4/44687421dab41455be93112bd1b0dee1f3c5a9aa27bee63708\n",
      "  Building wheel for ffmpy (setup.py) ... \u001b[?25ldone\n",
      "\u001b[?25h  Created wheel for ffmpy: filename=ffmpy-0.3.0-py3-none-any.whl size=4710 sha256=d2b6e19559608a9633462cca44c079b5034361fdbebb665081e07344819c6d5f\n",
      "  Stored in directory: /Users/olivierchateauneuf/Library/Caches/pip/wheels/13/e4/6c/e8059816e86796a597c6e6b0d4c880630f51a1fcfa0befd5e6\n",
      "Successfully built flask-cachebuster ffmpy\n",
      "Installing collected packages: pytz, pandas, Werkzeug, itsdangerous, Flask, flask-cachebuster, pydub, Flask-Login, pycryptodome, Flask-Cors, ffmpy, monotonic, backoff, analytics-python, pynacl, bcrypt, cryptography, paramiko, markdown2, cycler, fonttools, tomli, setuptools-scm, kiwisolver, matplotlib, gradio\n",
      "Successfully installed Flask-2.0.2 Flask-Cors-3.0.10 Flask-Login-0.5.0 Werkzeug-2.0.2 analytics-python-1.4.0 backoff-1.10.0 bcrypt-3.2.0 cryptography-36.0.0 cycler-0.11.0 ffmpy-0.3.0 flask-cachebuster-1.0.0 fonttools-4.28.3 gradio-2.4.6 itsdangerous-2.0.1 kiwisolver-1.3.2 markdown2-2.4.2 matplotlib-3.5.0 monotonic-1.6 pandas-1.3.4 paramiko-2.8.1 pycryptodome-3.12.0 pydub-0.25.1 pynacl-1.4.0 pytz-2021.3 setuptools-scm-6.3.2 tomli-1.2.2\n",
      "\u001b[33mWARNING: You are using pip version 20.1.1; however, version 21.3.1 is available.\n",
      "You should consider upgrading via the '/Users/olivierchateauneuf/opt/anaconda3/envs/py3711-gram/bin/python -m pip install --upgrade pip' command.\u001b[0m\n"
     ]
    }
   ],
   "source": [
    "!pip install gradio"
   ]
  },
  {
   "cell_type": "code",
   "execution_count": 25,
   "metadata": {
    "ExecuteTime": {
     "end_time": "2021-12-07T08:32:57.744757Z",
     "start_time": "2021-12-07T08:32:39.705123Z"
    }
   },
   "outputs": [],
   "source": [
    "import gradio as gr"
   ]
  },
  {
   "cell_type": "code",
   "execution_count": 32,
   "metadata": {
    "ExecuteTime": {
     "end_time": "2021-12-07T08:34:49.881461Z",
     "start_time": "2021-12-07T08:34:49.872827Z"
    }
   },
   "outputs": [],
   "source": [
    "def correct(sentence):\n",
    "    res = gf.correct(sentence) # Gramformer correct\n",
    "    return res[0][0] # Return second value in res array"
   ]
  },
  {
   "cell_type": "code",
   "execution_count": 46,
   "metadata": {
    "ExecuteTime": {
     "end_time": "2021-12-07T08:51:47.572516Z",
     "start_time": "2021-12-07T08:51:47.566847Z"
    }
   },
   "outputs": [],
   "source": [
    "app_inputs = gr.inputs.Textbox(lines=2, placeholder=\"Enter sentence here...\")"
   ]
  },
  {
   "cell_type": "code",
   "execution_count": 47,
   "metadata": {
    "ExecuteTime": {
     "end_time": "2021-12-07T08:51:49.385070Z",
     "start_time": "2021-12-07T08:51:48.494124Z"
    }
   },
   "outputs": [],
   "source": [
    "interface = gr.Interface(fn=correct, \n",
    "                        inputs=app_inputs, \n",
    "                        outputs='text', \n",
    "                        title='Entry Form Using Gramformer')"
   ]
  },
  {
   "cell_type": "code",
   "execution_count": 48,
   "metadata": {
    "ExecuteTime": {
     "end_time": "2021-12-07T08:51:51.475442Z",
     "start_time": "2021-12-07T08:51:49.391743Z"
    },
    "scrolled": false
   },
   "outputs": [
    {
     "name": "stdout",
     "output_type": "stream",
     "text": [
      "Running on local URL:  http://127.0.0.1:7865/\n",
      "\n",
      "To create a public link, set `share=True` in `launch()`.\n"
     ]
    },
    {
     "data": {
      "text/html": [
       "\n",
       "        <iframe\n",
       "            width=\"900\"\n",
       "            height=\"500\"\n",
       "            src=\"http://127.0.0.1:7865/\"\n",
       "            frameborder=\"0\"\n",
       "            allowfullscreen\n",
       "            \n",
       "        ></iframe>\n",
       "        "
      ],
      "text/plain": [
       "<IPython.lib.display.IFrame at 0x7fb3220201d0>"
      ]
     },
     "metadata": {},
     "output_type": "display_data"
    }
   ],
   "source": [
    "interface.launch();"
   ]
  },
  {
   "cell_type": "code",
   "execution_count": null,
   "metadata": {},
   "outputs": [],
   "source": []
  }
 ],
 "metadata": {
  "hide_input": false,
  "kernelspec": {
   "display_name": "Python [conda env:py3711-gram]",
   "language": "python",
   "name": "conda-env-py3711-gram-py"
  },
  "language_info": {
   "codemirror_mode": {
    "name": "ipython",
    "version": 3
   },
   "file_extension": ".py",
   "mimetype": "text/x-python",
   "name": "python",
   "nbconvert_exporter": "python",
   "pygments_lexer": "ipython3",
   "version": "3.7.11"
  }
 },
 "nbformat": 4,
 "nbformat_minor": 2
}
